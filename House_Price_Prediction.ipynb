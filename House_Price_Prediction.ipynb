{
 "cells": [
  {
   "cell_type": "markdown",
   "id": "bd2e0bff",
   "metadata": {},
   "source": [
    "# House price prediction\n",
    "\n"
   ]
  },
  {
   "cell_type": "code",
   "execution_count": 1,
   "id": "08a73d77",
   "metadata": {},
   "outputs": [],
   "source": [
    "import pandas as pd\n",
    "import numpy as np\n",
    "import matplotlib.pyplot as plt\n",
    "import pylab as plt"
   ]
  },
  {
   "cell_type": "code",
   "execution_count": 2,
   "id": "e4eaa542",
   "metadata": {},
   "outputs": [],
   "source": [
    "df_house_price = pd.read_csv('..//Melbourne_housing_FULL.csv')"
   ]
  },
  {
   "cell_type": "code",
   "execution_count": 3,
   "id": "edb07e67",
   "metadata": {},
   "outputs": [
    {
     "data": {
      "text/html": [
       "<div>\n",
       "<style scoped>\n",
       "    .dataframe tbody tr th:only-of-type {\n",
       "        vertical-align: middle;\n",
       "    }\n",
       "\n",
       "    .dataframe tbody tr th {\n",
       "        vertical-align: top;\n",
       "    }\n",
       "\n",
       "    .dataframe thead th {\n",
       "        text-align: right;\n",
       "    }\n",
       "</style>\n",
       "<table border=\"1\" class=\"dataframe\">\n",
       "  <thead>\n",
       "    <tr style=\"text-align: right;\">\n",
       "      <th></th>\n",
       "      <th>Suburb</th>\n",
       "      <th>Address</th>\n",
       "      <th>Rooms</th>\n",
       "      <th>Type</th>\n",
       "      <th>Price</th>\n",
       "      <th>Method</th>\n",
       "      <th>SellerG</th>\n",
       "      <th>Date</th>\n",
       "      <th>Distance</th>\n",
       "      <th>Postcode</th>\n",
       "      <th>Bedroom2</th>\n",
       "      <th>Bathroom</th>\n",
       "      <th>Car</th>\n",
       "      <th>Landsize</th>\n",
       "      <th>BuildingArea</th>\n",
       "      <th>YearBuilt</th>\n",
       "      <th>CouncilArea</th>\n",
       "      <th>Lattitude</th>\n",
       "      <th>Longtitude</th>\n",
       "      <th>Regionname</th>\n",
       "      <th>Propertycount</th>\n",
       "    </tr>\n",
       "  </thead>\n",
       "  <tbody>\n",
       "    <tr>\n",
       "      <th>0</th>\n",
       "      <td>Abbotsford</td>\n",
       "      <td>68 Studley St</td>\n",
       "      <td>2</td>\n",
       "      <td>h</td>\n",
       "      <td>NaN</td>\n",
       "      <td>SS</td>\n",
       "      <td>Jellis</td>\n",
       "      <td>3/09/2016</td>\n",
       "      <td>2.5</td>\n",
       "      <td>3067.0</td>\n",
       "      <td>2.0</td>\n",
       "      <td>1.0</td>\n",
       "      <td>1.0</td>\n",
       "      <td>126.0</td>\n",
       "      <td>NaN</td>\n",
       "      <td>NaN</td>\n",
       "      <td>Yarra City Council</td>\n",
       "      <td>-37.8014</td>\n",
       "      <td>144.9958</td>\n",
       "      <td>Northern Metropolitan</td>\n",
       "      <td>4019.0</td>\n",
       "    </tr>\n",
       "    <tr>\n",
       "      <th>1</th>\n",
       "      <td>Abbotsford</td>\n",
       "      <td>85 Turner St</td>\n",
       "      <td>2</td>\n",
       "      <td>h</td>\n",
       "      <td>1480000.0</td>\n",
       "      <td>S</td>\n",
       "      <td>Biggin</td>\n",
       "      <td>3/12/2016</td>\n",
       "      <td>2.5</td>\n",
       "      <td>3067.0</td>\n",
       "      <td>2.0</td>\n",
       "      <td>1.0</td>\n",
       "      <td>1.0</td>\n",
       "      <td>202.0</td>\n",
       "      <td>NaN</td>\n",
       "      <td>NaN</td>\n",
       "      <td>Yarra City Council</td>\n",
       "      <td>-37.7996</td>\n",
       "      <td>144.9984</td>\n",
       "      <td>Northern Metropolitan</td>\n",
       "      <td>4019.0</td>\n",
       "    </tr>\n",
       "    <tr>\n",
       "      <th>2</th>\n",
       "      <td>Abbotsford</td>\n",
       "      <td>25 Bloomburg St</td>\n",
       "      <td>2</td>\n",
       "      <td>h</td>\n",
       "      <td>1035000.0</td>\n",
       "      <td>S</td>\n",
       "      <td>Biggin</td>\n",
       "      <td>4/02/2016</td>\n",
       "      <td>2.5</td>\n",
       "      <td>3067.0</td>\n",
       "      <td>2.0</td>\n",
       "      <td>1.0</td>\n",
       "      <td>0.0</td>\n",
       "      <td>156.0</td>\n",
       "      <td>79.0</td>\n",
       "      <td>1900.0</td>\n",
       "      <td>Yarra City Council</td>\n",
       "      <td>-37.8079</td>\n",
       "      <td>144.9934</td>\n",
       "      <td>Northern Metropolitan</td>\n",
       "      <td>4019.0</td>\n",
       "    </tr>\n",
       "    <tr>\n",
       "      <th>3</th>\n",
       "      <td>Abbotsford</td>\n",
       "      <td>18/659 Victoria St</td>\n",
       "      <td>3</td>\n",
       "      <td>u</td>\n",
       "      <td>NaN</td>\n",
       "      <td>VB</td>\n",
       "      <td>Rounds</td>\n",
       "      <td>4/02/2016</td>\n",
       "      <td>2.5</td>\n",
       "      <td>3067.0</td>\n",
       "      <td>3.0</td>\n",
       "      <td>2.0</td>\n",
       "      <td>1.0</td>\n",
       "      <td>0.0</td>\n",
       "      <td>NaN</td>\n",
       "      <td>NaN</td>\n",
       "      <td>Yarra City Council</td>\n",
       "      <td>-37.8114</td>\n",
       "      <td>145.0116</td>\n",
       "      <td>Northern Metropolitan</td>\n",
       "      <td>4019.0</td>\n",
       "    </tr>\n",
       "    <tr>\n",
       "      <th>4</th>\n",
       "      <td>Abbotsford</td>\n",
       "      <td>5 Charles St</td>\n",
       "      <td>3</td>\n",
       "      <td>h</td>\n",
       "      <td>1465000.0</td>\n",
       "      <td>SP</td>\n",
       "      <td>Biggin</td>\n",
       "      <td>4/03/2017</td>\n",
       "      <td>2.5</td>\n",
       "      <td>3067.0</td>\n",
       "      <td>3.0</td>\n",
       "      <td>2.0</td>\n",
       "      <td>0.0</td>\n",
       "      <td>134.0</td>\n",
       "      <td>150.0</td>\n",
       "      <td>1900.0</td>\n",
       "      <td>Yarra City Council</td>\n",
       "      <td>-37.8093</td>\n",
       "      <td>144.9944</td>\n",
       "      <td>Northern Metropolitan</td>\n",
       "      <td>4019.0</td>\n",
       "    </tr>\n",
       "  </tbody>\n",
       "</table>\n",
       "</div>"
      ],
      "text/plain": [
       "       Suburb             Address  Rooms Type      Price Method SellerG  \\\n",
       "0  Abbotsford       68 Studley St      2    h        NaN     SS  Jellis   \n",
       "1  Abbotsford        85 Turner St      2    h  1480000.0      S  Biggin   \n",
       "2  Abbotsford     25 Bloomburg St      2    h  1035000.0      S  Biggin   \n",
       "3  Abbotsford  18/659 Victoria St      3    u        NaN     VB  Rounds   \n",
       "4  Abbotsford        5 Charles St      3    h  1465000.0     SP  Biggin   \n",
       "\n",
       "        Date  Distance  Postcode  Bedroom2  Bathroom  Car  Landsize  \\\n",
       "0  3/09/2016       2.5    3067.0       2.0       1.0  1.0     126.0   \n",
       "1  3/12/2016       2.5    3067.0       2.0       1.0  1.0     202.0   \n",
       "2  4/02/2016       2.5    3067.0       2.0       1.0  0.0     156.0   \n",
       "3  4/02/2016       2.5    3067.0       3.0       2.0  1.0       0.0   \n",
       "4  4/03/2017       2.5    3067.0       3.0       2.0  0.0     134.0   \n",
       "\n",
       "   BuildingArea  YearBuilt         CouncilArea  Lattitude  Longtitude  \\\n",
       "0           NaN        NaN  Yarra City Council   -37.8014    144.9958   \n",
       "1           NaN        NaN  Yarra City Council   -37.7996    144.9984   \n",
       "2          79.0     1900.0  Yarra City Council   -37.8079    144.9934   \n",
       "3           NaN        NaN  Yarra City Council   -37.8114    145.0116   \n",
       "4         150.0     1900.0  Yarra City Council   -37.8093    144.9944   \n",
       "\n",
       "              Regionname  Propertycount  \n",
       "0  Northern Metropolitan         4019.0  \n",
       "1  Northern Metropolitan         4019.0  \n",
       "2  Northern Metropolitan         4019.0  \n",
       "3  Northern Metropolitan         4019.0  \n",
       "4  Northern Metropolitan         4019.0  "
      ]
     },
     "execution_count": 3,
     "metadata": {},
     "output_type": "execute_result"
    }
   ],
   "source": [
    "pd.set_option('display.max_columns', None)\n",
    "df_house_price.head()"
   ]
  },
  {
   "cell_type": "markdown",
   "id": "3b59c817",
   "metadata": {},
   "source": [
    "## Explore the Data"
   ]
  },
  {
   "cell_type": "code",
   "execution_count": 4,
   "id": "4dcdec14",
   "metadata": {},
   "outputs": [
    {
     "name": "stdout",
     "output_type": "stream",
     "text": [
      "<class 'pandas.core.frame.DataFrame'>\n",
      "RangeIndex: 34857 entries, 0 to 34856\n",
      "Data columns (total 21 columns):\n",
      " #   Column         Non-Null Count  Dtype  \n",
      "---  ------         --------------  -----  \n",
      " 0   Suburb         34857 non-null  object \n",
      " 1   Address        34857 non-null  object \n",
      " 2   Rooms          34857 non-null  int64  \n",
      " 3   Type           34857 non-null  object \n",
      " 4   Price          27247 non-null  float64\n",
      " 5   Method         34857 non-null  object \n",
      " 6   SellerG        34857 non-null  object \n",
      " 7   Date           34857 non-null  object \n",
      " 8   Distance       34856 non-null  float64\n",
      " 9   Postcode       34856 non-null  float64\n",
      " 10  Bedroom2       26640 non-null  float64\n",
      " 11  Bathroom       26631 non-null  float64\n",
      " 12  Car            26129 non-null  float64\n",
      " 13  Landsize       23047 non-null  float64\n",
      " 14  BuildingArea   13742 non-null  float64\n",
      " 15  YearBuilt      15551 non-null  float64\n",
      " 16  CouncilArea    34854 non-null  object \n",
      " 17  Lattitude      26881 non-null  float64\n",
      " 18  Longtitude     26881 non-null  float64\n",
      " 19  Regionname     34854 non-null  object \n",
      " 20  Propertycount  34854 non-null  float64\n",
      "dtypes: float64(12), int64(1), object(8)\n",
      "memory usage: 5.6+ MB\n"
     ]
    }
   ],
   "source": [
    "df_house_price.info()"
   ]
  },
  {
   "cell_type": "code",
   "execution_count": 5,
   "id": "40351443",
   "metadata": {},
   "outputs": [
    {
     "data": {
      "text/plain": [
       "Suburb            0.000000\n",
       "Address           0.000000\n",
       "Rooms             0.000000\n",
       "Type              0.000000\n",
       "Price            21.832057\n",
       "Method            0.000000\n",
       "SellerG           0.000000\n",
       "Date              0.000000\n",
       "Distance          0.002869\n",
       "Postcode          0.002869\n",
       "Bedroom2         23.573457\n",
       "Bathroom         23.599277\n",
       "Car              25.039447\n",
       "Landsize         33.881286\n",
       "BuildingArea     60.576068\n",
       "YearBuilt        55.386293\n",
       "CouncilArea       0.008607\n",
       "Lattitude        22.882061\n",
       "Longtitude       22.882061\n",
       "Regionname        0.008607\n",
       "Propertycount     0.008607\n",
       "dtype: float64"
      ]
     },
     "execution_count": 5,
     "metadata": {},
     "output_type": "execute_result"
    }
   ],
   "source": [
    "percent_missing = df_house_price.isnull().sum() * 100 / len(df_house_price)\n",
    "percent_missing"
   ]
  },
  {
   "cell_type": "code",
   "execution_count": 6,
   "id": "ac804728",
   "metadata": {},
   "outputs": [
    {
     "data": {
      "text/plain": [
       "(34857, 15)"
      ]
     },
     "execution_count": 6,
     "metadata": {},
     "output_type": "execute_result"
    }
   ],
   "source": [
    "df_house_price = df_house_price.drop(['Address','Longtitude', 'Lattitude','Suburb', 'SellerG', 'CouncilArea'], axis=1)\n",
    "df_house_price.shape"
   ]
  },
  {
   "cell_type": "markdown",
   "id": "76d8ea20",
   "metadata": {},
   "source": [
    "##### Missing values percentage count"
   ]
  },
  {
   "cell_type": "code",
   "execution_count": 7,
   "id": "586b42a7",
   "metadata": {},
   "outputs": [
    {
     "name": "stdout",
     "output_type": "stream",
     "text": [
      "(27247, 15)\n"
     ]
    },
    {
     "data": {
      "text/plain": [
       "Rooms             0.000000\n",
       "Type              0.000000\n",
       "Price             0.000000\n",
       "Method            0.000000\n",
       "Date              0.000000\n",
       "Distance          0.003670\n",
       "Postcode          0.003670\n",
       "Bedroom2         23.639300\n",
       "Bathroom         23.661321\n",
       "Car              25.044959\n",
       "Landsize         34.003744\n",
       "BuildingArea     60.891107\n",
       "YearBuilt        55.650163\n",
       "Regionname        0.011010\n",
       "Propertycount     0.011010\n",
       "dtype: float64"
      ]
     },
     "execution_count": 7,
     "metadata": {},
     "output_type": "execute_result"
    }
   ],
   "source": [
    "df_house_price.dropna(subset=[\"Price\"], inplace=True)\n",
    "print(df_house_price.shape)\n",
    "percent_missing = df_house_price.isnull().sum() * 100 / len(df_house_price)\n",
    "percent_missing"
   ]
  },
  {
   "cell_type": "markdown",
   "id": "580923bd",
   "metadata": {},
   "source": [
    "#### Data visualization"
   ]
  },
  {
   "cell_type": "code",
   "execution_count": 8,
   "id": "664798fe",
   "metadata": {},
   "outputs": [
    {
     "data": {
      "text/plain": [
       "<AxesSubplot:title={'center':'Rooms'}, ylabel='Frequency'>"
      ]
     },
     "execution_count": 8,
     "metadata": {},
     "output_type": "execute_result"
    },
    {
     "data": {
      "image/png": "[encoded data removed]",
      "text/plain": [
       "<Figure size 640x480 with 1 Axes>"
      ]
     },
     "metadata": {},
     "output_type": "display_data"
    }
   ],
   "source": [
    "df_house_price['Rooms'].plot(kind = 'hist', grid = True, title = 'Rooms')"
   ]
  },
  {
   "cell_type": "code",
   "execution_count": 9,
   "id": "5193d9ac",
   "metadata": {
    "scrolled": true
   },
   "outputs": [
    {
     "data": {
      "text/html": [
       "<div>\n",
       "<style scoped>\n",
       "    .dataframe tbody tr th:only-of-type {\n",
       "        vertical-align: middle;\n",
       "    }\n",
       "\n",
       "    .dataframe tbody tr th {\n",
       "        vertical-align: top;\n",
       "    }\n",
       "\n",
       "    .dataframe thead th {\n",
       "        text-align: right;\n",
       "    }\n",
       "</style>\n",
       "<table border=\"1\" class=\"dataframe\">\n",
       "  <thead>\n",
       "    <tr style=\"text-align: right;\">\n",
       "      <th></th>\n",
       "      <th>Rooms</th>\n",
       "      <th>Price</th>\n",
       "      <th>Distance</th>\n",
       "      <th>Postcode</th>\n",
       "      <th>Bedroom2</th>\n",
       "      <th>Bathroom</th>\n",
       "      <th>Car</th>\n",
       "      <th>Landsize</th>\n",
       "      <th>BuildingArea</th>\n",
       "      <th>YearBuilt</th>\n",
       "      <th>Propertycount</th>\n",
       "    </tr>\n",
       "  </thead>\n",
       "  <tbody>\n",
       "    <tr>\n",
       "      <th>count</th>\n",
       "      <td>27247.000000</td>\n",
       "      <td>2.724700e+04</td>\n",
       "      <td>27246.000000</td>\n",
       "      <td>27246.000000</td>\n",
       "      <td>20806.000000</td>\n",
       "      <td>20800.000000</td>\n",
       "      <td>20423.000000</td>\n",
       "      <td>17982.000000</td>\n",
       "      <td>10656.000000</td>\n",
       "      <td>12084.000000</td>\n",
       "      <td>27244.000000</td>\n",
       "    </tr>\n",
       "    <tr>\n",
       "      <th>mean</th>\n",
       "      <td>2.992293</td>\n",
       "      <td>1.050173e+06</td>\n",
       "      <td>11.280276</td>\n",
       "      <td>3113.796080</td>\n",
       "      <td>3.046237</td>\n",
       "      <td>1.591683</td>\n",
       "      <td>1.715370</td>\n",
       "      <td>593.488933</td>\n",
       "      <td>156.834586</td>\n",
       "      <td>1966.609153</td>\n",
       "      <td>7566.781089</td>\n",
       "    </tr>\n",
       "    <tr>\n",
       "      <th>std</th>\n",
       "      <td>0.954795</td>\n",
       "      <td>6.414671e+05</td>\n",
       "      <td>6.787469</td>\n",
       "      <td>111.139676</td>\n",
       "      <td>0.955122</td>\n",
       "      <td>0.700880</td>\n",
       "      <td>0.994216</td>\n",
       "      <td>3757.266429</td>\n",
       "      <td>449.222791</td>\n",
       "      <td>36.762373</td>\n",
       "      <td>4492.382418</td>\n",
       "    </tr>\n",
       "    <tr>\n",
       "      <th>min</th>\n",
       "      <td>1.000000</td>\n",
       "      <td>8.500000e+04</td>\n",
       "      <td>0.000000</td>\n",
       "      <td>3000.000000</td>\n",
       "      <td>0.000000</td>\n",
       "      <td>0.000000</td>\n",
       "      <td>0.000000</td>\n",
       "      <td>0.000000</td>\n",
       "      <td>0.000000</td>\n",
       "      <td>1196.000000</td>\n",
       "      <td>83.000000</td>\n",
       "    </tr>\n",
       "    <tr>\n",
       "      <th>25%</th>\n",
       "      <td>2.000000</td>\n",
       "      <td>6.350000e+05</td>\n",
       "      <td>6.400000</td>\n",
       "      <td>3046.000000</td>\n",
       "      <td>2.000000</td>\n",
       "      <td>1.000000</td>\n",
       "      <td>1.000000</td>\n",
       "      <td>219.000000</td>\n",
       "      <td>100.000000</td>\n",
       "      <td>1950.000000</td>\n",
       "      <td>4294.000000</td>\n",
       "    </tr>\n",
       "    <tr>\n",
       "      <th>50%</th>\n",
       "      <td>3.000000</td>\n",
       "      <td>8.700000e+05</td>\n",
       "      <td>10.500000</td>\n",
       "      <td>3088.000000</td>\n",
       "      <td>3.000000</td>\n",
       "      <td>1.000000</td>\n",
       "      <td>2.000000</td>\n",
       "      <td>512.000000</td>\n",
       "      <td>133.000000</td>\n",
       "      <td>1970.000000</td>\n",
       "      <td>6567.000000</td>\n",
       "    </tr>\n",
       "    <tr>\n",
       "      <th>75%</th>\n",
       "      <td>4.000000</td>\n",
       "      <td>1.295000e+06</td>\n",
       "      <td>14.000000</td>\n",
       "      <td>3153.000000</td>\n",
       "      <td>4.000000</td>\n",
       "      <td>2.000000</td>\n",
       "      <td>2.000000</td>\n",
       "      <td>664.000000</td>\n",
       "      <td>182.000000</td>\n",
       "      <td>2000.000000</td>\n",
       "      <td>10412.000000</td>\n",
       "    </tr>\n",
       "    <tr>\n",
       "      <th>max</th>\n",
       "      <td>16.000000</td>\n",
       "      <td>1.120000e+07</td>\n",
       "      <td>48.100000</td>\n",
       "      <td>3978.000000</td>\n",
       "      <td>20.000000</td>\n",
       "      <td>9.000000</td>\n",
       "      <td>18.000000</td>\n",
       "      <td>433014.000000</td>\n",
       "      <td>44515.000000</td>\n",
       "      <td>2019.000000</td>\n",
       "      <td>21650.000000</td>\n",
       "    </tr>\n",
       "  </tbody>\n",
       "</table>\n",
       "</div>"
      ],
      "text/plain": [
       "              Rooms         Price      Distance      Postcode      Bedroom2  \\\n",
       "count  27247.000000  2.724700e+04  27246.000000  27246.000000  20806.000000   \n",
       "mean       2.992293  1.050173e+06     11.280276   3113.796080      3.046237   \n",
       "std        0.954795  6.414671e+05      6.787469    111.139676      0.955122   \n",
       "min        1.000000  8.500000e+04      0.000000   3000.000000      0.000000   \n",
       "25%        2.000000  6.350000e+05      6.400000   3046.000000      2.000000   \n",
       "50%        3.000000  8.700000e+05     10.500000   3088.000000      3.000000   \n",
       "75%        4.000000  1.295000e+06     14.000000   3153.000000      4.000000   \n",
       "max       16.000000  1.120000e+07     48.100000   3978.000000     20.000000   \n",
       "\n",
       "           Bathroom           Car       Landsize  BuildingArea     YearBuilt  \\\n",
       "count  20800.000000  20423.000000   17982.000000  10656.000000  12084.000000   \n",
       "mean       1.591683      1.715370     593.488933    156.834586   1966.609153   \n",
       "std        0.700880      0.994216    3757.266429    449.222791     36.762373   \n",
       "min        0.000000      0.000000       0.000000      0.000000   1196.000000   \n",
       "25%        1.000000      1.000000     219.000000    100.000000   1950.000000   \n",
       "50%        1.000000      2.000000     512.000000    133.000000   1970.000000   \n",
       "75%        2.000000      2.000000     664.000000    182.000000   2000.000000   \n",
       "max        9.000000     18.000000  433014.000000  44515.000000   2019.000000   \n",
       "\n",
       "       Propertycount  \n",
       "count   27244.000000  \n",
       "mean     7566.781089  \n",
       "std      4492.382418  \n",
       "min        83.000000  \n",
       "25%      4294.000000  \n",
       "50%      6567.000000  \n",
       "75%     10412.000000  \n",
       "max     21650.000000  "
      ]
     },
     "execution_count": 9,
     "metadata": {},
     "output_type": "execute_result"
    }
   ],
   "source": [
    "df_house_price.describe()"
   ]
  },
  {
   "cell_type": "code",
   "execution_count": 10,
   "id": "5dc5cb09",
   "metadata": {},
   "outputs": [
    {
     "data": {
      "text/plain": [
       "3     11957\n",
       "2      6787\n",
       "4      5918\n",
       "5      1209\n",
       "1      1196\n",
       "6       137\n",
       "7        20\n",
       "8        14\n",
       "10        5\n",
       "12        2\n",
       "9         1\n",
       "16        1\n",
       "Name: Rooms, dtype: int64"
      ]
     },
     "execution_count": 10,
     "metadata": {},
     "output_type": "execute_result"
    }
   ],
   "source": [
    "df_house_price['Rooms'].value_counts()"
   ]
  },
  {
   "cell_type": "code",
   "execution_count": 11,
   "id": "1820f080",
   "metadata": {},
   "outputs": [
    {
     "data": {
      "text/plain": [
       "1    1480000.0\n",
       "2    1035000.0\n",
       "4    1465000.0\n",
       "5     850000.0\n",
       "6    1600000.0\n",
       "Name: Price, dtype: float64"
      ]
     },
     "execution_count": 11,
     "metadata": {},
     "output_type": "execute_result"
    }
   ],
   "source": [
    "df_house_price['Price'].head()"
   ]
  },
  {
   "cell_type": "code",
   "execution_count": 12,
   "id": "2c77dda8",
   "metadata": {},
   "outputs": [
    {
     "data": {
      "text/html": [
       "<div>\n",
       "<style scoped>\n",
       "    .dataframe tbody tr th:only-of-type {\n",
       "        vertical-align: middle;\n",
       "    }\n",
       "\n",
       "    .dataframe tbody tr th {\n",
       "        vertical-align: top;\n",
       "    }\n",
       "\n",
       "    .dataframe thead th {\n",
       "        text-align: right;\n",
       "    }\n",
       "</style>\n",
       "<table border=\"1\" class=\"dataframe\">\n",
       "  <thead>\n",
       "    <tr style=\"text-align: right;\">\n",
       "      <th></th>\n",
       "      <th>Rooms</th>\n",
       "      <th>Type</th>\n",
       "      <th>Price</th>\n",
       "      <th>Method</th>\n",
       "      <th>Date</th>\n",
       "      <th>Distance</th>\n",
       "      <th>Postcode</th>\n",
       "      <th>Bedroom2</th>\n",
       "      <th>Bathroom</th>\n",
       "      <th>Car</th>\n",
       "      <th>Landsize</th>\n",
       "      <th>BuildingArea</th>\n",
       "      <th>YearBuilt</th>\n",
       "      <th>Regionname</th>\n",
       "      <th>Propertycount</th>\n",
       "    </tr>\n",
       "  </thead>\n",
       "  <tbody>\n",
       "    <tr>\n",
       "      <th>12043</th>\n",
       "      <td>3</td>\n",
       "      <td>h</td>\n",
       "      <td>1650000.0</td>\n",
       "      <td>PI</td>\n",
       "      <td>6/08/2016</td>\n",
       "      <td>9.3</td>\n",
       "      <td>3145.0</td>\n",
       "      <td>20.0</td>\n",
       "      <td>1.0</td>\n",
       "      <td>2.0</td>\n",
       "      <td>875.0</td>\n",
       "      <td>NaN</td>\n",
       "      <td>NaN</td>\n",
       "      <td>Southern Metropolitan</td>\n",
       "      <td>608.0</td>\n",
       "    </tr>\n",
       "  </tbody>\n",
       "</table>\n",
       "</div>"
      ],
      "text/plain": [
       "       Rooms Type      Price Method       Date  Distance  Postcode  Bedroom2  \\\n",
       "12043      3    h  1650000.0     PI  6/08/2016       9.3    3145.0      20.0   \n",
       "\n",
       "       Bathroom  Car  Landsize  BuildingArea  YearBuilt  \\\n",
       "12043       1.0  2.0     875.0           NaN        NaN   \n",
       "\n",
       "                  Regionname  Propertycount  \n",
       "12043  Southern Metropolitan          608.0  "
      ]
     },
     "execution_count": 12,
     "metadata": {},
     "output_type": "execute_result"
    }
   ],
   "source": [
    "df_house_price.loc[df_house_price['Bedroom2'] == 20]"
   ]
  },
  {
   "cell_type": "code",
   "execution_count": 13,
   "id": "0dedad8d",
   "metadata": {},
   "outputs": [
    {
     "data": {
      "text/html": [
       "<div>\n",
       "<style scoped>\n",
       "    .dataframe tbody tr th:only-of-type {\n",
       "        vertical-align: middle;\n",
       "    }\n",
       "\n",
       "    .dataframe tbody tr th {\n",
       "        vertical-align: top;\n",
       "    }\n",
       "\n",
       "    .dataframe thead th {\n",
       "        text-align: right;\n",
       "    }\n",
       "</style>\n",
       "<table border=\"1\" class=\"dataframe\">\n",
       "  <thead>\n",
       "    <tr style=\"text-align: right;\">\n",
       "      <th></th>\n",
       "      <th>Rooms</th>\n",
       "      <th>Type</th>\n",
       "      <th>Price</th>\n",
       "      <th>Method</th>\n",
       "      <th>Date</th>\n",
       "      <th>Distance</th>\n",
       "      <th>Postcode</th>\n",
       "      <th>Bedroom2</th>\n",
       "      <th>Bathroom</th>\n",
       "      <th>Car</th>\n",
       "      <th>Landsize</th>\n",
       "      <th>BuildingArea</th>\n",
       "      <th>YearBuilt</th>\n",
       "      <th>Regionname</th>\n",
       "      <th>Propertycount</th>\n",
       "    </tr>\n",
       "  </thead>\n",
       "  <tbody>\n",
       "  </tbody>\n",
       "</table>\n",
       "</div>"
      ],
      "text/plain": [
       "Empty DataFrame\n",
       "Columns: [Rooms, Type, Price, Method, Date, Distance, Postcode, Bedroom2, Bathroom, Car, Landsize, BuildingArea, YearBuilt, Regionname, Propertycount]\n",
       "Index: []"
      ]
     },
     "execution_count": 13,
     "metadata": {},
     "output_type": "execute_result"
    }
   ],
   "source": [
    "df_house_price.loc[df_house_price['Bedroom2'] == 30]"
   ]
  },
  {
   "cell_type": "code",
   "execution_count": 14,
   "id": "a3719859",
   "metadata": {},
   "outputs": [
    {
     "data": {
      "text/html": [
       "<div>\n",
       "<style scoped>\n",
       "    .dataframe tbody tr th:only-of-type {\n",
       "        vertical-align: middle;\n",
       "    }\n",
       "\n",
       "    .dataframe tbody tr th {\n",
       "        vertical-align: top;\n",
       "    }\n",
       "\n",
       "    .dataframe thead th {\n",
       "        text-align: right;\n",
       "    }\n",
       "</style>\n",
       "<table border=\"1\" class=\"dataframe\">\n",
       "  <thead>\n",
       "    <tr style=\"text-align: right;\">\n",
       "      <th></th>\n",
       "      <th>Rooms</th>\n",
       "      <th>Type</th>\n",
       "      <th>Price</th>\n",
       "      <th>Method</th>\n",
       "      <th>Date</th>\n",
       "      <th>Distance</th>\n",
       "      <th>Postcode</th>\n",
       "      <th>Bedroom2</th>\n",
       "      <th>Bathroom</th>\n",
       "      <th>Car</th>\n",
       "      <th>Landsize</th>\n",
       "      <th>BuildingArea</th>\n",
       "      <th>YearBuilt</th>\n",
       "      <th>Regionname</th>\n",
       "      <th>Propertycount</th>\n",
       "    </tr>\n",
       "  </thead>\n",
       "  <tbody>\n",
       "    <tr>\n",
       "      <th>26210</th>\n",
       "      <td>16</td>\n",
       "      <td>h</td>\n",
       "      <td>5000000.0</td>\n",
       "      <td>S</td>\n",
       "      <td>28/10/2017</td>\n",
       "      <td>17.2</td>\n",
       "      <td>3132.0</td>\n",
       "      <td>16.0</td>\n",
       "      <td>8.0</td>\n",
       "      <td>8.0</td>\n",
       "      <td>NaN</td>\n",
       "      <td>NaN</td>\n",
       "      <td>NaN</td>\n",
       "      <td>Eastern Metropolitan</td>\n",
       "      <td>6871.0</td>\n",
       "    </tr>\n",
       "  </tbody>\n",
       "</table>\n",
       "</div>"
      ],
      "text/plain": [
       "       Rooms Type      Price Method        Date  Distance  Postcode  Bedroom2  \\\n",
       "26210     16    h  5000000.0      S  28/10/2017      17.2    3132.0      16.0   \n",
       "\n",
       "       Bathroom  Car  Landsize  BuildingArea  YearBuilt            Regionname  \\\n",
       "26210       8.0  8.0       NaN           NaN        NaN  Eastern Metropolitan   \n",
       "\n",
       "       Propertycount  \n",
       "26210         6871.0  "
      ]
     },
     "execution_count": 14,
     "metadata": {},
     "output_type": "execute_result"
    }
   ],
   "source": [
    "df_house_price.loc[df_house_price['Bedroom2'] == 16]"
   ]
  },
  {
   "cell_type": "code",
   "execution_count": 15,
   "id": "8ccb514a",
   "metadata": {},
   "outputs": [
    {
     "data": {
      "text/plain": [
       "<AxesSubplot:title={'center':'Regionname Counts'}>"
      ]
     },
     "execution_count": 15,
     "metadata": {},
     "output_type": "execute_result"
    },
    {
     "data": {
      "image/png": "[encoded data removed]",
      "text/plain": [
       "<Figure size 2500x2000 with 4 Axes>"
      ]
     },
     "metadata": {},
     "output_type": "display_data"
    }
   ],
   "source": [
    "# Set up a grid of plots\n",
    "fizsize_with_subplots = (25,20)\n",
    "fig = plt.figure(figsize=fizsize_with_subplots) \n",
    "fig_dims = (3, 2)\n",
    "\n",
    "# Plot Rooms counts\n",
    "plt.subplot2grid(fig_dims, (0, 0))\n",
    "df_house_price['Rooms'].value_counts().plot(kind='bar', \n",
    "                                         title='Rooms Counts')\n",
    "\n",
    "# Plot Type counts\n",
    "plt.subplot2grid(fig_dims, (0, 1))\n",
    "df_house_price['Type'].value_counts().plot(kind='bar', \n",
    "                                       title='Type Counts')\n",
    "\n",
    "# Plot Method counts\n",
    "plt.subplot2grid(fig_dims, (1, 0))\n",
    "df_house_price['Method'].value_counts().plot(kind='bar', \n",
    "                                    title='Method Counts')\n",
    "plt.xticks(rotation=0)\n",
    "\n",
    "# Plot Regionname counts\n",
    "plt.subplot2grid(fig_dims, (1, 1))\n",
    "df_house_price['Regionname'].value_counts().plot(kind='bar', \n",
    "                                         title='Regionname Counts')\n",
    "\n"
   ]
  },
  {
   "cell_type": "code",
   "execution_count": 16,
   "id": "7d2f1600",
   "metadata": {},
   "outputs": [
    {
     "data": {
      "text/plain": [
       "<AxesSubplot:title={'center':'Bathroom Counts'}>"
      ]
     },
     "execution_count": 16,
     "metadata": {},
     "output_type": "execute_result"
    },
    {
     "data": {
      "image/png": "[encoded data removed]",
      "text/plain": [
       "<Figure size 2000x2000 with 3 Axes>"
      ]
     },
     "metadata": {},
     "output_type": "display_data"
    }
   ],
   "source": [
    "# Set up a grid of plots\n",
    "fizsize_with_subplots = (20, 20)\n",
    "fig = plt.figure(figsize=fizsize_with_subplots) \n",
    "fig_dims = (3,2)\n",
    "\n",
    "\n",
    "# Plot Bedroom2 counts\n",
    "plt.subplot2grid(fig_dims, (1,0))\n",
    "df_house_price['Bedroom2'].value_counts().plot(kind='bar', \n",
    "                                         title='Bedroom2 Counts')\n",
    "\n",
    "# Plot Car counts\n",
    "plt.subplot2grid(fig_dims, (0, 1))\n",
    "df_house_price['Car'].value_counts().plot(kind='bar',title= 'car counts')\n",
    " \n",
    "plt.xticks(rotation=0)                                          \n",
    "\n",
    "# Plot Bathroom counts\n",
    "plt.subplot2grid(fig_dims, (0, 0))\n",
    "df_house_price['Bathroom'].value_counts().plot(kind='bar', \n",
    "                                    title='Bathroom Counts')"
   ]
  },
  {
   "cell_type": "markdown",
   "id": "e8597840",
   "metadata": {},
   "source": [
    "# Imputing missing values"
   ]
  },
  {
   "cell_type": "code",
   "execution_count": 17,
   "id": "f71716f5",
   "metadata": {},
   "outputs": [
    {
     "data": {
      "text/plain": [
       "3.0     15857\n",
       "4.0      4766\n",
       "2.0      4696\n",
       "5.0       983\n",
       "1.0       781\n",
       "6.0       110\n",
       "7.0        19\n",
       "0.0        16\n",
       "8.0         9\n",
       "10.0        4\n",
       "9.0         3\n",
       "20.0        1\n",
       "16.0        1\n",
       "12.0        1\n",
       "Name: Bedroom2, dtype: int64"
      ]
     },
     "execution_count": 17,
     "metadata": {},
     "output_type": "execute_result"
    }
   ],
   "source": [
    "# There are mising values in Bedroom2 which is replaced by  the mode value\n",
    "df_house_price['Bedroom2'].fillna(df_house_price['Bedroom2'].mode()[0], inplace = True)\n",
    "df_house_price['Bedroom2'].value_counts()"
   ]
  },
  {
   "cell_type": "code",
   "execution_count": 18,
   "id": "552d1091",
   "metadata": {},
   "outputs": [
    {
     "data": {
      "text/plain": [
       "3073.0    728\n",
       "3046.0    545\n",
       "3020.0    544\n",
       "3165.0    493\n",
       "3121.0    489\n",
       "         ... \n",
       "3793.0      1\n",
       "3428.0      1\n",
       "3770.0      1\n",
       "3786.0      1\n",
       "3139.0      1\n",
       "Name: Postcode, Length: 209, dtype: int64"
      ]
     },
     "execution_count": 18,
     "metadata": {},
     "output_type": "execute_result"
    }
   ],
   "source": [
    "# There are mising values in Postcode which is replaced by  the mode value\n",
    "df_house_price['Postcode'].fillna(df_house_price['Postcode'].mode()[0], inplace = True)\n",
    "df_house_price['Postcode'].value_counts()"
   ]
  },
  {
   "cell_type": "code",
   "execution_count": 19,
   "id": "4a3953d0",
   "metadata": {},
   "outputs": [
    {
     "data": {
      "text/plain": [
       "1.0    16974\n",
       "2.0     8464\n",
       "3.0     1537\n",
       "4.0      176\n",
       "5.0       46\n",
       "0.0       34\n",
       "6.0       10\n",
       "8.0        3\n",
       "7.0        2\n",
       "9.0        1\n",
       "Name: Bathroom, dtype: int64"
      ]
     },
     "execution_count": 19,
     "metadata": {},
     "output_type": "execute_result"
    }
   ],
   "source": [
    "# There are mising values in Bathroom which is replaced by  the mode value\n",
    "df_house_price['Bathroom'].fillna(df_house_price['Bathroom'].mode()[0], inplace = True)\n",
    "df_house_price['Bathroom'].value_counts()"
   ]
  },
  {
   "cell_type": "code",
   "execution_count": 20,
   "id": "de463846",
   "metadata": {},
   "outputs": [
    {
     "data": {
      "text/plain": [
       "2.0     16191\n",
       "1.0      7400\n",
       "0.0      1251\n",
       "3.0      1234\n",
       "4.0       907\n",
       "5.0       113\n",
       "6.0       105\n",
       "7.0        19\n",
       "8.0        18\n",
       "10.0        5\n",
       "9.0         2\n",
       "18.0        1\n",
       "11.0        1\n",
       "Name: Car, dtype: int64"
      ]
     },
     "execution_count": 20,
     "metadata": {},
     "output_type": "execute_result"
    }
   ],
   "source": [
    "# There are mising values in Car which is replaced by  the mode value\n",
    "df_house_price['Car'].fillna(df_house_price['Car'].mode()[0], inplace = True)\n",
    "df_house_price['Car'].value_counts()"
   ]
  },
  {
   "cell_type": "code",
   "execution_count": 21,
   "id": "07a433cc",
   "metadata": {},
   "outputs": [
    {
     "data": {
      "text/plain": [
       "count    27247.000000\n",
       "mean      1968.496165\n",
       "std         24.539477\n",
       "min       1196.000000\n",
       "25%       1970.000000\n",
       "50%       1970.000000\n",
       "75%       1970.000000\n",
       "max       2019.000000\n",
       "Name: YearBuilt, dtype: float64"
      ]
     },
     "execution_count": 21,
     "metadata": {},
     "output_type": "execute_result"
    }
   ],
   "source": [
    "# There are mising values in YearBuilt which is replaced by  the median value\n",
    "df_house_price['YearBuilt'].fillna(df_house_price['YearBuilt'].median(), inplace = True)\n",
    "df_house_price['YearBuilt'].describe()"
   ]
  },
  {
   "cell_type": "code",
   "execution_count": 22,
   "id": "4d26d295",
   "metadata": {},
   "outputs": [
    {
     "data": {
      "text/plain": [
       "count    27247.000000\n",
       "mean       142.321442\n",
       "std        281.163583\n",
       "min          0.000000\n",
       "25%        133.000000\n",
       "50%        133.000000\n",
       "75%        133.000000\n",
       "max      44515.000000\n",
       "Name: BuildingArea, dtype: float64"
      ]
     },
     "execution_count": 22,
     "metadata": {},
     "output_type": "execute_result"
    }
   ],
   "source": [
    "# There are mising values in BuildingArea which is replaced by  the median value\n",
    "df_house_price['BuildingArea'].fillna(df_house_price['BuildingArea'].median(), inplace = True)\n",
    "df_house_price['BuildingArea'].describe()"
   ]
  },
  {
   "cell_type": "code",
   "execution_count": 23,
   "id": "490ac634",
   "metadata": {},
   "outputs": [
    {
     "data": {
      "text/plain": [
       "count     27247.000000\n",
       "mean        565.779645\n",
       "std        3052.546357\n",
       "min           0.000000\n",
       "25%         351.000000\n",
       "50%         512.000000\n",
       "75%         592.000000\n",
       "max      433014.000000\n",
       "Name: Landsize, dtype: float64"
      ]
     },
     "execution_count": 23,
     "metadata": {},
     "output_type": "execute_result"
    }
   ],
   "source": [
    "# There are mising values in Landsize which is replaced by  the median value\n",
    "df_house_price['Landsize'].fillna(df_house_price['Landsize'].median(), inplace = True)\n",
    "df_house_price['Landsize'].describe()"
   ]
  },
  {
   "cell_type": "markdown",
   "id": "562bca49",
   "metadata": {},
   "source": [
    "Replacing missing value with median is most appropriate in the case of handling the skewed data because there is huge difference b/w mean and max value."
   ]
  },
  {
   "cell_type": "code",
   "execution_count": 24,
   "id": "fd1debf4",
   "metadata": {},
   "outputs": [],
   "source": [
    "# Dropping a few missing values\n",
    "df_house_price.dropna(subset=['Distance','Postcode', 'Regionname','Propertycount'], inplace=True)\n"
   ]
  },
  {
   "cell_type": "markdown",
   "id": "0662e527",
   "metadata": {},
   "source": [
    "Dropping the missing values of Distance, Postcode, Regionname, Propertycount and Council area because \n",
    "all these column have only 1 or 2 missing value which is less than 0.000001% of total values count."
   ]
  },
  {
   "cell_type": "code",
   "execution_count": 25,
   "id": "a18425e5",
   "metadata": {},
   "outputs": [
    {
     "name": "stdout",
     "output_type": "stream",
     "text": [
      "<class 'pandas.core.frame.DataFrame'>\n",
      "Int64Index: 27244 entries, 1 to 34856\n",
      "Data columns (total 15 columns):\n",
      " #   Column         Non-Null Count  Dtype  \n",
      "---  ------         --------------  -----  \n",
      " 0   Rooms          27244 non-null  int64  \n",
      " 1   Type           27244 non-null  object \n",
      " 2   Price          27244 non-null  float64\n",
      " 3   Method         27244 non-null  object \n",
      " 4   Date           27244 non-null  object \n",
      " 5   Distance       27244 non-null  float64\n",
      " 6   Postcode       27244 non-null  float64\n",
      " 7   Bedroom2       27244 non-null  float64\n",
      " 8   Bathroom       27244 non-null  float64\n",
      " 9   Car            27244 non-null  float64\n",
      " 10  Landsize       27244 non-null  float64\n",
      " 11  BuildingArea   27244 non-null  float64\n",
      " 12  YearBuilt      27244 non-null  float64\n",
      " 13  Regionname     27244 non-null  object \n",
      " 14  Propertycount  27244 non-null  float64\n",
      "dtypes: float64(10), int64(1), object(4)\n",
      "memory usage: 3.3+ MB\n"
     ]
    }
   ],
   "source": [
    "df_house_price.info()"
   ]
  },
  {
   "cell_type": "code",
   "execution_count": 26,
   "id": "fa02f171",
   "metadata": {},
   "outputs": [
    {
     "data": {
      "text/plain": [
       "<AxesSubplot:>"
      ]
     },
     "execution_count": 26,
     "metadata": {},
     "output_type": "execute_result"
    },
    {
     "data": {
      "image/png": "[encoded data removed]",
      "text/plain": [
       "<Figure size 640x480 with 1 Axes>"
      ]
     },
     "metadata": {},
     "output_type": "display_data"
    }
   ],
   "source": [
    "df_house_price.boxplot(column='Landsize', return_type='axes')"
   ]
  },
  {
   "cell_type": "code",
   "execution_count": 27,
   "id": "86d5f794",
   "metadata": {},
   "outputs": [
    {
     "name": "stdout",
     "output_type": "stream",
     "text": [
      "953.5\n"
     ]
    }
   ],
   "source": [
    "q75_landsize, q25_landsize = np.percentile(df_house_price['Landsize'], [75 ,25])\n",
    "iqr_landsize = q75_landsize - q25_landsize\n",
    "landsize_upper_limit =  q75_landsize + 1.5*iqr_landsize\n",
    "print(landsize_upper_limit)"
   ]
  },
  {
   "cell_type": "code",
   "execution_count": 28,
   "id": "77fcd7a9",
   "metadata": {},
   "outputs": [
    {
     "data": {
      "text/plain": [
       "count    27244.000000\n",
       "mean       460.732528\n",
       "std        208.331122\n",
       "min          0.000000\n",
       "25%        351.000000\n",
       "50%        512.000000\n",
       "75%        560.000000\n",
       "max        953.000000\n",
       "Name: Landsize, dtype: float64"
      ]
     },
     "execution_count": 28,
     "metadata": {},
     "output_type": "execute_result"
    }
   ],
   "source": [
    "df_house_price.loc[df_house_price['Landsize'] >  landsize_upper_limit] = df_house_price['Landsize'].median()\n",
    "df_house_price['Landsize'].describe()"
   ]
  },
  {
   "cell_type": "code",
   "execution_count": 29,
   "id": "c1103780",
   "metadata": {},
   "outputs": [
    {
     "data": {
      "text/plain": [
       "<AxesSubplot:>"
      ]
     },
     "execution_count": 29,
     "metadata": {},
     "output_type": "execute_result"
    },
    {
     "data": {
      "image/png": "[encoded data removed]",
      "text/plain": [
       "<Figure size 640x480 with 1 Axes>"
      ]
     },
     "metadata": {},
     "output_type": "display_data"
    }
   ],
   "source": [
    "df_house_price.boxplot(column='Bedroom2', return_type='axes')"
   ]
  },
  {
   "cell_type": "code",
   "execution_count": 30,
   "id": "28b8e74b",
   "metadata": {},
   "outputs": [
    {
     "data": {
      "text/plain": [
       "3.0     15586\n",
       "4.0      4547\n",
       "2.0      4399\n",
       "1.0      1693\n",
       "5.0       890\n",
       "6.0        85\n",
       "7.0        17\n",
       "0.0        15\n",
       "8.0         7\n",
       "10.0        4\n",
       "9.0         1\n",
       "Name: Bedroom2, dtype: int64"
      ]
     },
     "execution_count": 30,
     "metadata": {},
     "output_type": "execute_result"
    }
   ],
   "source": [
    "# Bedroom2_upper_limit = 10\n",
    "df_house_price.loc[df_house_price['Bedroom2'] >  10] = df_house_price['Bathroom'].mode()[0]\n",
    "df_house_price['Bedroom2'].value_counts()"
   ]
  },
  {
   "cell_type": "code",
   "execution_count": 31,
   "id": "7bfa04d8",
   "metadata": {},
   "outputs": [
    {
     "data": {
      "text/plain": [
       "<AxesSubplot:>"
      ]
     },
     "execution_count": 31,
     "metadata": {},
     "output_type": "execute_result"
    },
    {
     "data": {
      "image/png": "[encoded data removed]",
      "text/plain": [
       "<Figure size 640x480 with 1 Axes>"
      ]
     },
     "metadata": {},
     "output_type": "display_data"
    }
   ],
   "source": [
    "df_house_price.boxplot(column=['Bathroom'], return_type='axes')"
   ]
  },
  {
   "cell_type": "code",
   "execution_count": 32,
   "id": "24669722",
   "metadata": {},
   "outputs": [
    {
     "data": {
      "text/plain": [
       "1.0    17526\n",
       "2.0     8064\n",
       "3.0     1423\n",
       "4.0      152\n",
       "5.0       38\n",
       "0.0       33\n",
       "6.0        8\n",
       "Name: Bathroom, dtype: int64"
      ]
     },
     "execution_count": 32,
     "metadata": {},
     "output_type": "execute_result"
    }
   ],
   "source": [
    "df_house_price.loc[df_house_price['Bathroom'] >  6] = df_house_price['Bathroom'].mode()[0]\n",
    "df_house_price['Bathroom'].value_counts()"
   ]
  },
  {
   "cell_type": "code",
   "execution_count": 33,
   "id": "c02297f4",
   "metadata": {},
   "outputs": [
    {
     "data": {
      "text/plain": [
       "<AxesSubplot:>"
      ]
     },
     "execution_count": 33,
     "metadata": {},
     "output_type": "execute_result"
    },
    {
     "data": {
      "image/png": "[encoded data removed]",
      "text/plain": [
       "<Figure size 640x480 with 1 Axes>"
      ]
     },
     "metadata": {},
     "output_type": "display_data"
    }
   ],
   "source": [
    "df_house_price.boxplot(column='Car', return_type='axes')"
   ]
  },
  {
   "cell_type": "code",
   "execution_count": 34,
   "id": "26a59d6c",
   "metadata": {},
   "outputs": [
    {
     "data": {
      "text/plain": [
       "2.0    15823\n",
       "1.0     8021\n",
       "0.0     1209\n",
       "3.0     1169\n",
       "4.0      832\n",
       "5.0      101\n",
       "6.0       89\n",
       "Name: Car, dtype: int64"
      ]
     },
     "execution_count": 34,
     "metadata": {},
     "output_type": "execute_result"
    }
   ],
   "source": [
    "df_house_price.loc[df_house_price['Car'] >  6] = df_house_price['Car'].mode()[0]\n",
    "df_house_price['Car'].value_counts()"
   ]
  },
  {
   "cell_type": "code",
   "execution_count": 35,
   "id": "da4ddf34",
   "metadata": {},
   "outputs": [
    {
     "data": {
      "text/plain": [
       "<AxesSubplot:>"
      ]
     },
     "execution_count": 35,
     "metadata": {},
     "output_type": "execute_result"
    },
    {
     "data": {
      "image/png": "[encoded data removed]",
      "text/plain": [
       "<Figure size 640x480 with 1 Axes>"
      ]
     },
     "metadata": {},
     "output_type": "display_data"
    }
   ],
   "source": [
    "df_house_price.boxplot(column='BuildingArea', return_type='axes')"
   ]
  },
  {
   "cell_type": "code",
   "execution_count": 36,
   "id": "676f2cad",
   "metadata": {},
   "outputs": [
    {
     "name": "stdout",
     "output_type": "stream",
     "text": [
      "133.0\n"
     ]
    }
   ],
   "source": [
    "q75_BuildingArea, q25_BuildingArea = np.percentile(df_house_price['BuildingArea'], [75 ,25])\n",
    "iqr_BuildingArea = q75_BuildingArea - q25_BuildingArea\n",
    "BuildingArea_upper_limit =  q75_BuildingArea + 1.5*iqr_BuildingArea\n",
    "print(BuildingArea_upper_limit)"
   ]
  },
  {
   "cell_type": "code",
   "execution_count": 37,
   "id": "a3a3d24f",
   "metadata": {},
   "outputs": [
    {
     "data": {
      "text/plain": [
       "count    27244.000000\n",
       "mean       134.131969\n",
       "std         57.583558\n",
       "min          0.000000\n",
       "25%        133.000000\n",
       "50%        133.000000\n",
       "75%        133.000000\n",
       "max        934.000000\n",
       "Name: BuildingArea, dtype: float64"
      ]
     },
     "execution_count": 37,
     "metadata": {},
     "output_type": "execute_result"
    }
   ],
   "source": [
    "df_house_price.loc[df_house_price['BuildingArea'] >  landsize_upper_limit] = df_house_price['BuildingArea'].median()\n",
    "df_house_price['BuildingArea'].describe()"
   ]
  },
  {
   "cell_type": "markdown",
   "id": "7c9f8b2e",
   "metadata": {},
   "source": [
    "## Feature Engineering"
   ]
  },
  {
   "cell_type": "code",
   "execution_count": 38,
   "id": "494c19ae",
   "metadata": {},
   "outputs": [
    {
     "name": "stderr",
     "output_type": "stream",
     "text": [
      "C:\\Users\\khush\\anaconda3\\lib\\site-packages\\pandas\\core\\tools\\datetimes.py:1047: UserWarning: Parsing '13/08/2016' in DD/MM/YYYY format. Provide format or specify infer_datetime_format=True for consistent parsing.\n",
      "  cache_array = _maybe_cache(arg, format, cache, convert_listlike)\n",
      "C:\\Users\\khush\\anaconda3\\lib\\site-packages\\pandas\\core\\tools\\datetimes.py:1047: UserWarning: Parsing '14/05/2016' in DD/MM/YYYY format. Provide format or specify infer_datetime_format=True for consistent parsing.\n",
      "  cache_array = _maybe_cache(arg, format, cache, convert_listlike)\n",
      "C:\\Users\\khush\\anaconda3\\lib\\site-packages\\pandas\\core\\tools\\datetimes.py:1047: UserWarning: Parsing '15/10/2016' in DD/MM/YYYY format. Provide format or specify infer_datetime_format=True for consistent parsing.\n",
      "  cache_array = _maybe_cache(arg, format, cache, convert_listlike)\n",
      "C:\\Users\\khush\\anaconda3\\lib\\site-packages\\pandas\\core\\tools\\datetimes.py:1047: UserWarning: Parsing '16/07/2016' in DD/MM/YYYY format. Provide format or specify infer_datetime_format=True for consistent parsing.\n",
      "  cache_array = _maybe_cache(arg, format, cache, convert_listlike)\n",
      "C:\\Users\\khush\\anaconda3\\lib\\site-packages\\pandas\\core\\tools\\datetimes.py:1047: UserWarning: Parsing '17/09/2016' in DD/MM/YYYY format. Provide format or specify infer_datetime_format=True for consistent parsing.\n",
      "  cache_array = _maybe_cache(arg, format, cache, convert_listlike)\n",
      "C:\\Users\\khush\\anaconda3\\lib\\site-packages\\pandas\\core\\tools\\datetimes.py:1047: UserWarning: Parsing '18/03/2017' in DD/MM/YYYY format. Provide format or specify infer_datetime_format=True for consistent parsing.\n",
      "  cache_array = _maybe_cache(arg, format, cache, convert_listlike)\n",
      "C:\\Users\\khush\\anaconda3\\lib\\site-packages\\pandas\\core\\tools\\datetimes.py:1047: UserWarning: Parsing '18/06/2016' in DD/MM/YYYY format. Provide format or specify infer_datetime_format=True for consistent parsing.\n",
      "  cache_array = _maybe_cache(arg, format, cache, convert_listlike)\n",
      "C:\\Users\\khush\\anaconda3\\lib\\site-packages\\pandas\\core\\tools\\datetimes.py:1047: UserWarning: Parsing '19/11/2016' in DD/MM/YYYY format. Provide format or specify infer_datetime_format=True for consistent parsing.\n",
      "  cache_array = _maybe_cache(arg, format, cache, convert_listlike)\n",
      "C:\\Users\\khush\\anaconda3\\lib\\site-packages\\pandas\\core\\tools\\datetimes.py:1047: UserWarning: Parsing '22/05/2016' in DD/MM/YYYY format. Provide format or specify infer_datetime_format=True for consistent parsing.\n",
      "  cache_array = _maybe_cache(arg, format, cache, convert_listlike)\n",
      "C:\\Users\\khush\\anaconda3\\lib\\site-packages\\pandas\\core\\tools\\datetimes.py:1047: UserWarning: Parsing '22/08/2016' in DD/MM/YYYY format. Provide format or specify infer_datetime_format=True for consistent parsing.\n",
      "  cache_array = _maybe_cache(arg, format, cache, convert_listlike)\n",
      "C:\\Users\\khush\\anaconda3\\lib\\site-packages\\pandas\\core\\tools\\datetimes.py:1047: UserWarning: Parsing '23/04/2016' in DD/MM/YYYY format. Provide format or specify infer_datetime_format=True for consistent parsing.\n",
      "  cache_array = _maybe_cache(arg, format, cache, convert_listlike)\n",
      "C:\\Users\\khush\\anaconda3\\lib\\site-packages\\pandas\\core\\tools\\datetimes.py:1047: UserWarning: Parsing '24/09/2016' in DD/MM/YYYY format. Provide format or specify infer_datetime_format=True for consistent parsing.\n",
      "  cache_array = _maybe_cache(arg, format, cache, convert_listlike)\n",
      "C:\\Users\\khush\\anaconda3\\lib\\site-packages\\pandas\\core\\tools\\datetimes.py:1047: UserWarning: Parsing '25/02/2017' in DD/MM/YYYY format. Provide format or specify infer_datetime_format=True for consistent parsing.\n",
      "  cache_array = _maybe_cache(arg, format, cache, convert_listlike)\n",
      "C:\\Users\\khush\\anaconda3\\lib\\site-packages\\pandas\\core\\tools\\datetimes.py:1047: UserWarning: Parsing '26/07/2016' in DD/MM/YYYY format. Provide format or specify infer_datetime_format=True for consistent parsing.\n",
      "  cache_array = _maybe_cache(arg, format, cache, convert_listlike)\n",
      "C:\\Users\\khush\\anaconda3\\lib\\site-packages\\pandas\\core\\tools\\datetimes.py:1047: UserWarning: Parsing '27/11/2016' in DD/MM/YYYY format. Provide format or specify infer_datetime_format=True for consistent parsing.\n",
      "  cache_array = _maybe_cache(arg, format, cache, convert_listlike)\n",
      "C:\\Users\\khush\\anaconda3\\lib\\site-packages\\pandas\\core\\tools\\datetimes.py:1047: UserWarning: Parsing '28/05/2016' in DD/MM/YYYY format. Provide format or specify infer_datetime_format=True for consistent parsing.\n",
      "  cache_array = _maybe_cache(arg, format, cache, convert_listlike)\n",
      "C:\\Users\\khush\\anaconda3\\lib\\site-packages\\pandas\\core\\tools\\datetimes.py:1047: UserWarning: Parsing '30/07/2016' in DD/MM/YYYY format. Provide format or specify infer_datetime_format=True for consistent parsing.\n",
      "  cache_array = _maybe_cache(arg, format, cache, convert_listlike)\n",
      "C:\\Users\\khush\\anaconda3\\lib\\site-packages\\pandas\\core\\tools\\datetimes.py:1047: UserWarning: Parsing '27/06/2016' in DD/MM/YYYY format. Provide format or specify infer_datetime_format=True for consistent parsing.\n",
      "  cache_array = _maybe_cache(arg, format, cache, convert_listlike)\n",
      "C:\\Users\\khush\\anaconda3\\lib\\site-packages\\pandas\\core\\tools\\datetimes.py:1047: UserWarning: Parsing '28/08/2016' in DD/MM/YYYY format. Provide format or specify infer_datetime_format=True for consistent parsing.\n",
      "  cache_array = _maybe_cache(arg, format, cache, convert_listlike)\n",
      "C:\\Users\\khush\\anaconda3\\lib\\site-packages\\pandas\\core\\tools\\datetimes.py:1047: UserWarning: Parsing '16/04/2016' in DD/MM/YYYY format. Provide format or specify infer_datetime_format=True for consistent parsing.\n",
      "  cache_array = _maybe_cache(arg, format, cache, convert_listlike)\n",
      "C:\\Users\\khush\\anaconda3\\lib\\site-packages\\pandas\\core\\tools\\datetimes.py:1047: UserWarning: Parsing '28/01/2016' in DD/MM/YYYY format. Provide format or specify infer_datetime_format=True for consistent parsing.\n",
      "  cache_array = _maybe_cache(arg, format, cache, convert_listlike)\n",
      "C:\\Users\\khush\\anaconda3\\lib\\site-packages\\pandas\\core\\tools\\datetimes.py:1047: UserWarning: Parsing '13/05/2017' in DD/MM/YYYY format. Provide format or specify infer_datetime_format=True for consistent parsing.\n",
      "  cache_array = _maybe_cache(arg, format, cache, convert_listlike)\n",
      "C:\\Users\\khush\\anaconda3\\lib\\site-packages\\pandas\\core\\tools\\datetimes.py:1047: UserWarning: Parsing '29/04/2017' in DD/MM/YYYY format. Provide format or specify infer_datetime_format=True for consistent parsing.\n",
      "  cache_array = _maybe_cache(arg, format, cache, convert_listlike)\n",
      "C:\\Users\\khush\\anaconda3\\lib\\site-packages\\pandas\\core\\tools\\datetimes.py:1047: UserWarning: Parsing '20/05/2017' in DD/MM/YYYY format. Provide format or specify infer_datetime_format=True for consistent parsing.\n",
      "  cache_array = _maybe_cache(arg, format, cache, convert_listlike)\n",
      "C:\\Users\\khush\\anaconda3\\lib\\site-packages\\pandas\\core\\tools\\datetimes.py:1047: UserWarning: Parsing '22/04/2017' in DD/MM/YYYY format. Provide format or specify infer_datetime_format=True for consistent parsing.\n",
      "  cache_array = _maybe_cache(arg, format, cache, convert_listlike)\n",
      "C:\\Users\\khush\\anaconda3\\lib\\site-packages\\pandas\\core\\tools\\datetimes.py:1047: UserWarning: Parsing '17/06/2017' in DD/MM/YYYY format. Provide format or specify infer_datetime_format=True for consistent parsing.\n",
      "  cache_array = _maybe_cache(arg, format, cache, convert_listlike)\n",
      "C:\\Users\\khush\\anaconda3\\lib\\site-packages\\pandas\\core\\tools\\datetimes.py:1047: UserWarning: Parsing '24/06/2017' in DD/MM/YYYY format. Provide format or specify infer_datetime_format=True for consistent parsing.\n",
      "  cache_array = _maybe_cache(arg, format, cache, convert_listlike)\n",
      "C:\\Users\\khush\\anaconda3\\lib\\site-packages\\pandas\\core\\tools\\datetimes.py:1047: UserWarning: Parsing '27/05/2017' in DD/MM/YYYY format. Provide format or specify infer_datetime_format=True for consistent parsing.\n",
      "  cache_array = _maybe_cache(arg, format, cache, convert_listlike)\n",
      "C:\\Users\\khush\\anaconda3\\lib\\site-packages\\pandas\\core\\tools\\datetimes.py:1047: UserWarning: Parsing '15/07/2017' in DD/MM/YYYY format. Provide format or specify infer_datetime_format=True for consistent parsing.\n",
      "  cache_array = _maybe_cache(arg, format, cache, convert_listlike)\n",
      "C:\\Users\\khush\\anaconda3\\lib\\site-packages\\pandas\\core\\tools\\datetimes.py:1047: UserWarning: Parsing '22/07/2017' in DD/MM/YYYY format. Provide format or specify infer_datetime_format=True for consistent parsing.\n",
      "  cache_array = _maybe_cache(arg, format, cache, convert_listlike)\n",
      "C:\\Users\\khush\\anaconda3\\lib\\site-packages\\pandas\\core\\tools\\datetimes.py:1047: UserWarning: Parsing '29/07/2017' in DD/MM/YYYY format. Provide format or specify infer_datetime_format=True for consistent parsing.\n",
      "  cache_array = _maybe_cache(arg, format, cache, convert_listlike)\n",
      "C:\\Users\\khush\\anaconda3\\lib\\site-packages\\pandas\\core\\tools\\datetimes.py:1047: UserWarning: Parsing '16/09/2017' in DD/MM/YYYY format. Provide format or specify infer_datetime_format=True for consistent parsing.\n",
      "  cache_array = _maybe_cache(arg, format, cache, convert_listlike)\n",
      "C:\\Users\\khush\\anaconda3\\lib\\site-packages\\pandas\\core\\tools\\datetimes.py:1047: UserWarning: Parsing '19/08/2017' in DD/MM/YYYY format. Provide format or specify infer_datetime_format=True for consistent parsing.\n",
      "  cache_array = _maybe_cache(arg, format, cache, convert_listlike)\n",
      "C:\\Users\\khush\\anaconda3\\lib\\site-packages\\pandas\\core\\tools\\datetimes.py:1047: UserWarning: Parsing '23/09/2017' in DD/MM/YYYY format. Provide format or specify infer_datetime_format=True for consistent parsing.\n",
      "  cache_array = _maybe_cache(arg, format, cache, convert_listlike)\n",
      "C:\\Users\\khush\\anaconda3\\lib\\site-packages\\pandas\\core\\tools\\datetimes.py:1047: UserWarning: Parsing '26/08/2017' in DD/MM/YYYY format. Provide format or specify infer_datetime_format=True for consistent parsing.\n",
      "  cache_array = _maybe_cache(arg, format, cache, convert_listlike)\n",
      "C:\\Users\\khush\\anaconda3\\lib\\site-packages\\pandas\\core\\tools\\datetimes.py:1047: UserWarning: Parsing '14/10/2017' in DD/MM/YYYY format. Provide format or specify infer_datetime_format=True for consistent parsing.\n",
      "  cache_array = _maybe_cache(arg, format, cache, convert_listlike)\n",
      "C:\\Users\\khush\\anaconda3\\lib\\site-packages\\pandas\\core\\tools\\datetimes.py:1047: UserWarning: Parsing '21/10/2017' in DD/MM/YYYY format. Provide format or specify infer_datetime_format=True for consistent parsing.\n",
      "  cache_array = _maybe_cache(arg, format, cache, convert_listlike)\n",
      "C:\\Users\\khush\\anaconda3\\lib\\site-packages\\pandas\\core\\tools\\datetimes.py:1047: UserWarning: Parsing '28/10/2017' in DD/MM/YYYY format. Provide format or specify infer_datetime_format=True for consistent parsing.\n",
      "  cache_array = _maybe_cache(arg, format, cache, convert_listlike)\n",
      "C:\\Users\\khush\\anaconda3\\lib\\site-packages\\pandas\\core\\tools\\datetimes.py:1047: UserWarning: Parsing '30/09/2017' in DD/MM/YYYY format. Provide format or specify infer_datetime_format=True for consistent parsing.\n",
      "  cache_array = _maybe_cache(arg, format, cache, convert_listlike)\n",
      "C:\\Users\\khush\\anaconda3\\lib\\site-packages\\pandas\\core\\tools\\datetimes.py:1047: UserWarning: Parsing '18/11/2017' in DD/MM/YYYY format. Provide format or specify infer_datetime_format=True for consistent parsing.\n",
      "  cache_array = _maybe_cache(arg, format, cache, convert_listlike)\n",
      "C:\\Users\\khush\\anaconda3\\lib\\site-packages\\pandas\\core\\tools\\datetimes.py:1047: UserWarning: Parsing '25/11/2017' in DD/MM/YYYY format. Provide format or specify infer_datetime_format=True for consistent parsing.\n",
      "  cache_array = _maybe_cache(arg, format, cache, convert_listlike)\n",
      "C:\\Users\\khush\\anaconda3\\lib\\site-packages\\pandas\\core\\tools\\datetimes.py:1047: UserWarning: Parsing '20/01/2018' in DD/MM/YYYY format. Provide format or specify infer_datetime_format=True for consistent parsing.\n",
      "  cache_array = _maybe_cache(arg, format, cache, convert_listlike)\n",
      "C:\\Users\\khush\\anaconda3\\lib\\site-packages\\pandas\\core\\tools\\datetimes.py:1047: UserWarning: Parsing '27/01/2018' in DD/MM/YYYY format. Provide format or specify infer_datetime_format=True for consistent parsing.\n",
      "  cache_array = _maybe_cache(arg, format, cache, convert_listlike)\n",
      "C:\\Users\\khush\\anaconda3\\lib\\site-packages\\pandas\\core\\tools\\datetimes.py:1047: UserWarning: Parsing '17/02/2018' in DD/MM/YYYY format. Provide format or specify infer_datetime_format=True for consistent parsing.\n",
      "  cache_array = _maybe_cache(arg, format, cache, convert_listlike)\n",
      "C:\\Users\\khush\\anaconda3\\lib\\site-packages\\pandas\\core\\tools\\datetimes.py:1047: UserWarning: Parsing '17/03/2018' in DD/MM/YYYY format. Provide format or specify infer_datetime_format=True for consistent parsing.\n",
      "  cache_array = _maybe_cache(arg, format, cache, convert_listlike)\n",
      "C:\\Users\\khush\\anaconda3\\lib\\site-packages\\pandas\\core\\tools\\datetimes.py:1047: UserWarning: Parsing '24/02/2018' in DD/MM/YYYY format. Provide format or specify infer_datetime_format=True for consistent parsing.\n",
      "  cache_array = _maybe_cache(arg, format, cache, convert_listlike)\n"
     ]
    }
   ],
   "source": [
    "df_house_price['Date'] =  pd.to_datetime(df_house_price['Date'])\n",
    "df_house_price['YearBuilt'] =  pd.to_datetime(df_house_price['YearBuilt'])\n",
    "\n",
    "df_house_price['age_house'] = df_house_price['Date'].dt.year - df_house_price['YearBuilt'].dt.year \n"
   ]
  },
  {
   "cell_type": "code",
   "execution_count": 39,
   "id": "4ddbdfa1",
   "metadata": {},
   "outputs": [
    {
     "data": {
      "text/plain": [
       "count    27244.000000\n",
       "mean        45.050103\n",
       "std          8.996821\n",
       "min          0.000000\n",
       "25%         46.000000\n",
       "50%         47.000000\n",
       "75%         47.000000\n",
       "max         48.000000\n",
       "Name: age_house, dtype: float64"
      ]
     },
     "execution_count": 39,
     "metadata": {},
     "output_type": "execute_result"
    }
   ],
   "source": [
    "df_house_price['age_house'].describe()"
   ]
  },
  {
   "cell_type": "code",
   "execution_count": 40,
   "id": "4df48025",
   "metadata": {},
   "outputs": [],
   "source": [
    "# Droping 'yearbuilt' and 'date'\n",
    "df_house_price = df_house_price.drop(['YearBuilt','Date'], axis=1)"
   ]
  },
  {
   "cell_type": "markdown",
   "id": "d928da20",
   "metadata": {},
   "source": [
    "## One hot encoding"
   ]
  },
  {
   "cell_type": "code",
   "execution_count": 41,
   "id": "b45ebf9a",
   "metadata": {},
   "outputs": [
    {
     "name": "stdout",
     "output_type": "stream",
     "text": [
      "<class 'pandas.core.frame.DataFrame'>\n",
      "Int64Index: 27244 entries, 1 to 34856\n",
      "Data columns (total 19 columns):\n",
      " #   Column         Non-Null Count  Dtype  \n",
      "---  ------         --------------  -----  \n",
      " 0   Rooms          27244 non-null  int64  \n",
      " 1   Price          27244 non-null  float64\n",
      " 2   Method         27244 non-null  object \n",
      " 3   Distance       27244 non-null  float64\n",
      " 4   Postcode       27244 non-null  float64\n",
      " 5   Bedroom2       27244 non-null  float64\n",
      " 6   Bathroom       27244 non-null  float64\n",
      " 7   Car            27244 non-null  float64\n",
      " 8   Landsize       27244 non-null  float64\n",
      " 9   BuildingArea   27244 non-null  float64\n",
      " 10  Regionname     27244 non-null  object \n",
      " 11  Propertycount  27244 non-null  float64\n",
      " 12  age_house      27244 non-null  int64  \n",
      " 13  Type_1.0       27244 non-null  uint8  \n",
      " 14  Type_2.0       27244 non-null  uint8  \n",
      " 15  Type_133.0     27244 non-null  uint8  \n",
      " 16  Type_h         27244 non-null  uint8  \n",
      " 17  Type_t         27244 non-null  uint8  \n",
      " 18  Type_u         27244 non-null  uint8  \n",
      "dtypes: float64(9), int64(2), object(2), uint8(6)\n",
      "memory usage: 3.1+ MB\n"
     ]
    }
   ],
   "source": [
    "# Replacing Type with a one-hot vector of length 6\n",
    "cols = pd.get_dummies(df_house_price['Type'], prefix= 'Type')\n",
    "df_house_price[cols.columns] = cols\n",
    "df_house_price.drop('Type', axis = 1, inplace = True)\n",
    "df_house_price.info()"
   ]
  },
  {
   "cell_type": "code",
   "execution_count": 42,
   "id": "fedf14ce",
   "metadata": {},
   "outputs": [
    {
     "name": "stdout",
     "output_type": "stream",
     "text": [
      "<class 'pandas.core.frame.DataFrame'>\n",
      "Int64Index: 27244 entries, 1 to 34856\n",
      "Data columns (total 26 columns):\n",
      " #   Column         Non-Null Count  Dtype  \n",
      "---  ------         --------------  -----  \n",
      " 0   Rooms          27244 non-null  int64  \n",
      " 1   Price          27244 non-null  float64\n",
      " 2   Distance       27244 non-null  float64\n",
      " 3   Postcode       27244 non-null  float64\n",
      " 4   Bedroom2       27244 non-null  float64\n",
      " 5   Bathroom       27244 non-null  float64\n",
      " 6   Car            27244 non-null  float64\n",
      " 7   Landsize       27244 non-null  float64\n",
      " 8   BuildingArea   27244 non-null  float64\n",
      " 9   Regionname     27244 non-null  object \n",
      " 10  Propertycount  27244 non-null  float64\n",
      " 11  age_house      27244 non-null  int64  \n",
      " 12  Type_1.0       27244 non-null  uint8  \n",
      " 13  Type_2.0       27244 non-null  uint8  \n",
      " 14  Type_133.0     27244 non-null  uint8  \n",
      " 15  Type_h         27244 non-null  uint8  \n",
      " 16  Type_t         27244 non-null  uint8  \n",
      " 17  Type_u         27244 non-null  uint8  \n",
      " 18  Method_1.0     27244 non-null  uint8  \n",
      " 19  Method_2.0     27244 non-null  uint8  \n",
      " 20  Method_133.0   27244 non-null  uint8  \n",
      " 21  Method_PI      27244 non-null  uint8  \n",
      " 22  Method_S       27244 non-null  uint8  \n",
      " 23  Method_SA      27244 non-null  uint8  \n",
      " 24  Method_SP      27244 non-null  uint8  \n",
      " 25  Method_VB      27244 non-null  uint8  \n",
      "dtypes: float64(9), int64(2), object(1), uint8(14)\n",
      "memory usage: 3.1+ MB\n"
     ]
    }
   ],
   "source": [
    "# Replacing Method with a one-hot vector of length 8\n",
    "cols = pd.get_dummies(df_house_price['Method'], prefix= 'Method')\n",
    "df_house_price[cols.columns] = cols\n",
    "df_house_price.drop('Method', axis = 1, inplace = True)\n",
    "df_house_price.info()"
   ]
  },
  {
   "cell_type": "code",
   "execution_count": 43,
   "id": "d5635891",
   "metadata": {},
   "outputs": [
    {
     "name": "stdout",
     "output_type": "stream",
     "text": [
      "<class 'pandas.core.frame.DataFrame'>\n",
      "Int64Index: 27244 entries, 1 to 34856\n",
      "Data columns (total 36 columns):\n",
      " #   Column                                 Non-Null Count  Dtype  \n",
      "---  ------                                 --------------  -----  \n",
      " 0   Rooms                                  27244 non-null  int64  \n",
      " 1   Price                                  27244 non-null  float64\n",
      " 2   Distance                               27244 non-null  float64\n",
      " 3   Postcode                               27244 non-null  float64\n",
      " 4   Bedroom2                               27244 non-null  float64\n",
      " 5   Bathroom                               27244 non-null  float64\n",
      " 6   Car                                    27244 non-null  float64\n",
      " 7   Landsize                               27244 non-null  float64\n",
      " 8   BuildingArea                           27244 non-null  float64\n",
      " 9   Propertycount                          27244 non-null  float64\n",
      " 10  age_house                              27244 non-null  int64  \n",
      " 11  Type_1.0                               27244 non-null  uint8  \n",
      " 12  Type_2.0                               27244 non-null  uint8  \n",
      " 13  Type_133.0                             27244 non-null  uint8  \n",
      " 14  Type_h                                 27244 non-null  uint8  \n",
      " 15  Type_t                                 27244 non-null  uint8  \n",
      " 16  Type_u                                 27244 non-null  uint8  \n",
      " 17  Method_1.0                             27244 non-null  uint8  \n",
      " 18  Method_2.0                             27244 non-null  uint8  \n",
      " 19  Method_133.0                           27244 non-null  uint8  \n",
      " 20  Method_PI                              27244 non-null  uint8  \n",
      " 21  Method_S                               27244 non-null  uint8  \n",
      " 22  Method_SA                              27244 non-null  uint8  \n",
      " 23  Method_SP                              27244 non-null  uint8  \n",
      " 24  Method_VB                              27244 non-null  uint8  \n",
      " 25  Regionname_1.0                         27244 non-null  uint8  \n",
      " 26  Regionname_2.0                         27244 non-null  uint8  \n",
      " 27  Regionname_133.0                       27244 non-null  uint8  \n",
      " 28  Regionname_Eastern Metropolitan        27244 non-null  uint8  \n",
      " 29  Regionname_Eastern Victoria            27244 non-null  uint8  \n",
      " 30  Regionname_Northern Metropolitan       27244 non-null  uint8  \n",
      " 31  Regionname_Northern Victoria           27244 non-null  uint8  \n",
      " 32  Regionname_South-Eastern Metropolitan  27244 non-null  uint8  \n",
      " 33  Regionname_Southern Metropolitan       27244 non-null  uint8  \n",
      " 34  Regionname_Western Metropolitan        27244 non-null  uint8  \n",
      " 35  Regionname_Western Victoria            27244 non-null  uint8  \n",
      "dtypes: float64(9), int64(2), uint8(25)\n",
      "memory usage: 3.1 MB\n"
     ]
    }
   ],
   "source": [
    "# Replacing Regionname with a one-hot vector of length 11\n",
    "cols = pd.get_dummies(df_house_price['Regionname'], prefix= 'Regionname')\n",
    "df_house_price[cols.columns] = cols\n",
    "df_house_price.drop('Regionname', axis = 1, inplace = True)\n",
    "df_house_price.info()"
   ]
  },
  {
   "cell_type": "markdown",
   "id": "67e47111",
   "metadata": {},
   "source": [
    "## Spliting the data"
   ]
  },
  {
   "cell_type": "code",
   "execution_count": 44,
   "id": "45f72c85",
   "metadata": {},
   "outputs": [],
   "source": [
    "from sklearn.model_selection import train_test_split\n",
    "from sklearn.preprocessing import StandardScaler\n",
    "y = df_house_price[\"Price\"]\n",
    "X = df_house_price.drop('Price', axis = 1)\n",
    "\n",
    "X_train_orig, X_test_orig, y_train, y_test = train_test_split(X, y, random_state = 0)\n",
    "\n",
    "scaler = StandardScaler()\n",
    "X_train = scaler.fit_transform(X_train_orig)\n",
    "X_test = scaler.transform(X_test_orig)"
   ]
  },
  {
   "cell_type": "markdown",
   "id": "621dbdff",
   "metadata": {},
   "source": [
    "## Model Building"
   ]
  },
  {
   "cell_type": "markdown",
   "id": "62e4526b",
   "metadata": {},
   "source": [
    "#### Linear Regression"
   ]
  },
  {
   "cell_type": "code",
   "execution_count": 45,
   "id": "47b4a1dc",
   "metadata": {},
   "outputs": [
    {
     "name": "stdout",
     "output_type": "stream",
     "text": [
      "Train Score for Linear Regression: 0.6297996731874602\n",
      "Test Score for Linear Regression: 0.6275456026680641\n"
     ]
    }
   ],
   "source": [
    "from sklearn.linear_model import LinearRegression\n",
    "lreg = LinearRegression()\n",
    "lreg.fit(X_train, y_train)\n",
    "print('Train Score for Linear Regression:', lreg.score(X_train, y_train))\n",
    "print('Test Score for Linear Regression:', lreg.score(X_test, y_test))"
   ]
  },
  {
   "cell_type": "markdown",
   "id": "ec60cd95",
   "metadata": {},
   "source": [
    "#### Ridge Regression"
   ]
  },
  {
   "cell_type": "code",
   "execution_count": 46,
   "id": "c637d6ef",
   "metadata": {},
   "outputs": [
    {
     "name": "stdout",
     "output_type": "stream",
     "text": [
      "Train Score for Ridge Regression: 0.629799236156962\n",
      "Test Score for Ridge Regression: 0.6275484725701368\n"
     ]
    }
   ],
   "source": [
    "#Ridge(random_state = 0)\n",
    "from sklearn.linear_model import Ridge\n",
    "\n",
    "ridge = Ridge(random_state= 0)\n",
    "ridge.fit(X_train, y_train)\n",
    "\n",
    "print('Train Score for Ridge Regression:', ridge.score(X_train, y_train))\n",
    "print('Test Score for Ridge Regression:', ridge.score(X_test, y_test))\n"
   ]
  },
  {
   "cell_type": "markdown",
   "id": "a8a211a0",
   "metadata": {},
   "source": [
    "#### Lasso Regression"
   ]
  },
  {
   "cell_type": "code",
   "execution_count": 47,
   "id": "90be4d48",
   "metadata": {},
   "outputs": [
    {
     "name": "stdout",
     "output_type": "stream",
     "text": [
      "Train Score for Lasso Regression: 0.6297995622144541\n",
      "Test Score for Lasso Regression: 0.6275426034402742\n"
     ]
    },
    {
     "name": "stderr",
     "output_type": "stream",
     "text": [
      "C:\\Users\\khush\\anaconda3\\lib\\site-packages\\sklearn\\linear_model\\_coordinate_descent.py:647: ConvergenceWarning: Objective did not converge. You might want to increase the number of iterations, check the scale of the features or consider increasing regularisation. Duality gap: 1.318e+15, tolerance: 8.376e+11\n",
      "  model = cd_fast.enet_coordinate_descent(\n"
     ]
    }
   ],
   "source": [
    "#Lasso(random_state = 0)\n",
    "from sklearn.linear_model import Lasso\n",
    "\n",
    "lasso = Lasso(random_state= 0)\n",
    "lasso.fit(X_train, y_train)\n",
    "\n",
    "print('Train Score for Lasso Regression:', lasso.score(X_train, y_train))\n",
    "print('Test Score for Lasso Regression:', lasso.score(X_test, y_test))"
   ]
  },
  {
   "cell_type": "markdown",
   "id": "ec05d43c",
   "metadata": {},
   "source": [
    "#### Polynomial Regression"
   ]
  },
  {
   "cell_type": "code",
   "execution_count": 48,
   "id": "a47d8957",
   "metadata": {},
   "outputs": [
    {
     "name": "stdout",
     "output_type": "stream",
     "text": [
      "Train Score for polynomial Regression: 0.7419829492314607\n",
      "Test Score for polynomial Regression: -11565682568.55496\n"
     ]
    }
   ],
   "source": [
    "from sklearn.preprocessing import PolynomialFeatures\n",
    "\n",
    "poly = PolynomialFeatures(degree = 2)\n",
    "X_train_poly = poly.fit_transform(X_train)\n",
    "X_test_poly = poly.transform(X_test)\n",
    "polreg = LinearRegression()\n",
    "polreg.fit(X_train_poly, y_train)\n",
    "\n",
    "print('Train Score for polynomial Regression:', polreg.score(X_train_poly, y_train))\n",
    "print('Test Score for polynomial Regression:', polreg.score(X_test_poly, y_test))\n"
   ]
  },
  {
   "cell_type": "markdown",
   "id": "8255d0b9",
   "metadata": {},
   "source": [
    "#### Decision Tree Regression"
   ]
  },
  {
   "cell_type": "code",
   "execution_count": 49,
   "id": "dfe49fb8",
   "metadata": {},
   "outputs": [
    {
     "name": "stdout",
     "output_type": "stream",
     "text": [
      "Train Score for Decision Tree Regression: 0.4076146711462383\n",
      "Test Score for Decision Tree Regression: 0.40416865941910396\n"
     ]
    }
   ],
   "source": [
    "#DecisionTreeRegressor(max_depth = 2, random_state= 0)\n",
    "from sklearn.tree import DecisionTreeRegressor\n",
    "dr = DecisionTreeRegressor(max_depth = 2, random_state= 0)\n",
    "dr.fit(X_train, y_train)\n",
    "\n",
    "print('Train Score for Decision Tree Regression:', dr.score(X_train, y_train))\n",
    "print('Test Score for Decision Tree Regression:', dr.score(X_test, y_test))"
   ]
  },
  {
   "cell_type": "markdown",
   "id": "99faa6c1",
   "metadata": {},
   "source": [
    "#### KNN Regression"
   ]
  },
  {
   "cell_type": "code",
   "execution_count": 50,
   "id": "1756399d",
   "metadata": {},
   "outputs": [
    {
     "name": "stdout",
     "output_type": "stream",
     "text": [
      "Train Score for KNN Regression: 0.8056660736375862\n",
      "Test Score for KNN Regression: 0.7101587470578505\n"
     ]
    }
   ],
   "source": [
    "from sklearn.neighbors import KNeighborsRegressor\n",
    "knn = KNeighborsRegressor()\n",
    "knn.fit(X_train, y_train)\n",
    "\n",
    "print('Train Score for KNN Regression:', knn.score(X_train, y_train))\n",
    "print('Test Score for KNN Regression:', knn.score(X_test, y_test))"
   ]
  },
  {
   "cell_type": "markdown",
   "id": "b63432d6",
   "metadata": {},
   "source": [
    "####  Simple SVM Regression"
   ]
  },
  {
   "cell_type": "code",
   "execution_count": 51,
   "id": "14915afd",
   "metadata": {},
   "outputs": [
    {
     "name": "stdout",
     "output_type": "stream",
     "text": [
      "Train Score for SVM Regression: -0.054468010979434656\n",
      "Test Score for SVM Regression: -0.05569460952643723\n"
     ]
    }
   ],
   "source": [
    "#SVR()\n",
    "from sklearn.svm import SVR\n",
    "\n",
    "svr = SVR()\n",
    "svr.fit(X_train, y_train)\n",
    "\n",
    "print('Train Score for SVM Regression:', svr.score(X_train, y_train))\n",
    "print('Test Score for SVM Regression:', svr.score(X_test, y_test))\n"
   ]
  },
  {
   "cell_type": "markdown",
   "id": "a350a4c3",
   "metadata": {},
   "source": [
    "#### SVM Regression with rbf kernel"
   ]
  },
  {
   "cell_type": "code",
   "execution_count": 52,
   "id": "2c77b667",
   "metadata": {},
   "outputs": [
    {
     "name": "stdout",
     "output_type": "stream",
     "text": [
      "Train Score for SVM rbf Regression: -0.054468010979434656\n",
      "Test Score for SVM rbf Regression: -0.05569460952643723\n"
     ]
    }
   ],
   "source": [
    "svr_rbf = SVR(kernel = 'rbf')\n",
    "svr_rbf.fit(X_train, y_train)\n",
    "\n",
    "print('Train Score for SVM rbf Regression:', svr_rbf.score(X_train, y_train))\n",
    "print('Test Score for SVM rbf Regression:', svr_rbf.score(X_test, y_test))\n"
   ]
  },
  {
   "cell_type": "markdown",
   "id": "2af97600",
   "metadata": {},
   "source": [
    "#### SVM Regression with poly kernel"
   ]
  },
  {
   "cell_type": "code",
   "execution_count": 53,
   "id": "d88dc6f4",
   "metadata": {},
   "outputs": [
    {
     "name": "stdout",
     "output_type": "stream",
     "text": [
      "Train Score for SVM poly Regression: -0.044215074032970536\n",
      "Test Score for SVM poly Regression: -0.04443175726479365\n"
     ]
    }
   ],
   "source": [
    "svr_poly = SVR(kernel = 'poly')\n",
    "svr_poly.fit(X_train, y_train)\n",
    "\n",
    "print('Train Score for SVM poly Regression:', svr_poly.score(X_train, y_train))\n",
    "print('Test Score for SVM poly Regression:', svr_poly.score(X_test, y_test))"
   ]
  },
  {
   "cell_type": "markdown",
   "id": "419f7fbc",
   "metadata": {},
   "source": [
    "#### SVM Regression with linear kernel"
   ]
  },
  {
   "cell_type": "code",
   "execution_count": 54,
   "id": "1559e596",
   "metadata": {},
   "outputs": [
    {
     "name": "stdout",
     "output_type": "stream",
     "text": [
      "Train Score for SVM linear Regression: 0.0008710767034781908\n",
      "Test Score for SVM linear Regression: -0.0006853196423397545\n"
     ]
    }
   ],
   "source": [
    "svr_linear = SVR(kernel = 'linear')\n",
    "svr_linear.fit(X_train, y_train)\n",
    "\n",
    "print('Train Score for SVM linear Regression:', svr_linear.score(X_train, y_train))\n",
    "print('Test Score for SVM linear Regression:', svr_linear.score(X_test, y_test))"
   ]
  },
  {
   "cell_type": "markdown",
   "id": "23028f75",
   "metadata": {},
   "source": [
    "## Grid Search with Cross-Validation"
   ]
  },
  {
   "cell_type": "markdown",
   "id": "0c0060db",
   "metadata": {},
   "source": [
    "### Grid search for lasso"
   ]
  },
  {
   "cell_type": "code",
   "execution_count": 55,
   "id": "b63c0718",
   "metadata": {},
   "outputs": [
    {
     "name": "stdout",
     "output_type": "stream",
     "text": [
      "Parameter grid:\n",
      "{'alpha': [10, 20, 30, 40, 50, 100]}\n"
     ]
    },
    {
     "data": {
      "text/plain": [
       "GridSearchCV(cv=5, estimator=Lasso(random_state=0),\n",
       "             param_grid={'alpha': [10, 20, 30, 40, 50, 100]},\n",
       "             return_train_score=True)"
      ]
     },
     "execution_count": 55,
     "metadata": {},
     "output_type": "execute_result"
    }
   ],
   "source": [
    "from sklearn.model_selection import GridSearchCV\n",
    "import warnings\n",
    "warnings.filterwarnings('ignore')\n",
    "\n",
    "lasso = Lasso(random_state= 0)\n",
    "\n",
    "param_grid = {'alpha': [10, 20, 30, 40, 50, 100]}\n",
    "print(\"Parameter grid:\\n{}\".format(param_grid))\n",
    "grid_search = GridSearchCV(lasso,cv=5,\n",
    "             param_grid=param_grid,\n",
    "                return_train_score=True )\n",
    "grid_search.fit(X_train, y_train)"
   ]
  },
  {
   "cell_type": "code",
   "execution_count": 56,
   "id": "b0b485e9",
   "metadata": {},
   "outputs": [
    {
     "name": "stdout",
     "output_type": "stream",
     "text": [
      "Best parameters: {'alpha': 30}\n",
      "Best cross-validation score: 0.62939\n"
     ]
    }
   ],
   "source": [
    "print(\"Best parameters: {}\".format(grid_search.best_params_))\n",
    "print(\"Best cross-validation score: {:.5f}\".format(grid_search.best_score_))"
   ]
  },
  {
   "cell_type": "code",
   "execution_count": 57,
   "id": "335f0290",
   "metadata": {},
   "outputs": [],
   "source": [
    "x_range = [1, 10, 100, 1000, 10000]\n",
    "train_score_list_lasso = []\n",
    "test_score_list_lasso = []\n",
    "\n",
    "for alpha in x_range: \n",
    "    lasso = Lasso(alpha)\n",
    "    lasso.fit(X_train,y_train)\n",
    "    train_score_list_lasso.append(lasso.score(X_train,y_train))\n",
    "    test_score_list_lasso.append(lasso.score(X_test, y_test))"
   ]
  },
  {
   "cell_type": "code",
   "execution_count": 58,
   "id": "98bb89bc",
   "metadata": {},
   "outputs": [
    {
     "data": {
      "image/png": "[encoded data removed]",
      "text/plain": [
       "<Figure size 2000x500 with 1 Axes>"
      ]
     },
     "metadata": {},
     "output_type": "display_data"
    }
   ],
   "source": [
    "%matplotlib inline\n",
    "plt.subplots(figsize = (20,5))\n",
    "plt.plot(x_range, train_score_list_lasso, c = 'g', label = 'Train Score')\n",
    "plt.plot(x_range, test_score_list_lasso, c = 'b', label = 'Test Score')\n",
    "plt.xscale('log')\n",
    "plt.legend(loc = 3)\n",
    "plt.xlabel(r'$\\alpha$')\n",
    "plt.grid()"
   ]
  },
  {
   "cell_type": "code",
   "execution_count": 59,
   "id": "8d3940bd",
   "metadata": {},
   "outputs": [
    {
     "name": "stdout",
     "output_type": "stream",
     "text": [
      "Train Score for best Lasso Regression: 0.6282520437972311\n",
      "Test Score for best Lasso Regression: 0.6259965100592081\n"
     ]
    }
   ],
   "source": [
    "lasso_best = Lasso(alpha=1000)\n",
    "lasso_best.fit(X_train, y_train)\n",
    "\n",
    "print('Train Score for best Lasso Regression:', lasso_best.score(X_train, y_train))\n",
    "print('Test Score for best Lasso Regression:', lasso_best.score(X_test, y_test))"
   ]
  },
  {
   "cell_type": "markdown",
   "id": "a4607b93",
   "metadata": {},
   "source": [
    "### Grid search for KNN"
   ]
  },
  {
   "cell_type": "code",
   "execution_count": 60,
   "id": "460f5bab",
   "metadata": {},
   "outputs": [
    {
     "name": "stdout",
     "output_type": "stream",
     "text": [
      "Parameter grid:\n",
      "{'n_neighbors': [1, 5, 10, 50, 100, 500]}\n"
     ]
    },
    {
     "data": {
      "text/plain": [
       "GridSearchCV(cv=5, estimator=KNeighborsRegressor(),\n",
       "             param_grid={'n_neighbors': [1, 5, 10, 50, 100, 500]},\n",
       "             return_train_score=True)"
      ]
     },
     "execution_count": 60,
     "metadata": {},
     "output_type": "execute_result"
    }
   ],
   "source": [
    "knn = KNeighborsRegressor()\n",
    "param_grid = {'n_neighbors': [1,5, 10, 50, 100, 500]}\n",
    "print(\"Parameter grid:\\n{}\".format(param_grid))\n",
    "grid_search_knn = GridSearchCV(knn,cv=5,\n",
    "             param_grid=param_grid,\n",
    "                return_train_score=True )\n",
    "grid_search_knn.fit(X_train, y_train)\n"
   ]
  },
  {
   "cell_type": "code",
   "execution_count": 61,
   "id": "a63f5b5e",
   "metadata": {},
   "outputs": [
    {
     "name": "stdout",
     "output_type": "stream",
     "text": [
      "Best parameters for knn: {'n_neighbors': 10}\n",
      "Best cross-validation score for knn: 0.70317\n"
     ]
    }
   ],
   "source": [
    "print(\"Best parameters for knn: {}\".format(grid_search_knn.best_params_))\n",
    "print(\"Best cross-validation score for knn: {:.5f}\".format(grid_search_knn.best_score_))"
   ]
  },
  {
   "cell_type": "code",
   "execution_count": 62,
   "id": "07d0e1a2",
   "metadata": {},
   "outputs": [],
   "source": [
    "train_score_array_knn = []\n",
    "test_score_array_knn = []\n",
    "\n",
    "for k in range(1,20):\n",
    "    knn = KNeighborsRegressor(k)\n",
    "    knn.fit(X_train, y_train)\n",
    "    train_score_array_knn.append(knn.score(X_train, y_train))\n",
    "    test_score_array_knn.append(knn.score(X_test, y_test))"
   ]
  },
  {
   "cell_type": "code",
   "execution_count": 63,
   "id": "b9883548",
   "metadata": {},
   "outputs": [
    {
     "data": {
      "text/plain": [
       "<matplotlib.legend.Legend at 0x137b552e340>"
      ]
     },
     "execution_count": 63,
     "metadata": {},
     "output_type": "execute_result"
    },
    {
     "data": {
      "image/png": "[encoded data removed]",
      "text/plain": [
       "<Figure size 2000x500 with 1 Axes>"
      ]
     },
     "metadata": {},
     "output_type": "display_data"
    }
   ],
   "source": [
    "x_axis = range(1,20)\n",
    "%matplotlib inline\n",
    "\n",
    "plt.subplots(figsize = (20,5))\n",
    "plt.plot(x_axis, train_score_array_knn, label = 'Train Score', c = 'g')\n",
    "plt.plot(x_axis, test_score_array_knn, label = 'Test Score', c='b')\n",
    "plt.xlabel('n_neighbors')\n",
    "plt.ylabel('R2')\n",
    "# plt.xticks(x_axis, np.arange(20))\n",
    "plt.grid()\n",
    "plt.legend()"
   ]
  },
  {
   "cell_type": "code",
   "execution_count": 64,
   "id": "b3ce240f",
   "metadata": {},
   "outputs": [
    {
     "name": "stdout",
     "output_type": "stream",
     "text": [
      "Train Score for best KNN Regression: 0.7654419993002003\n",
      "Test Score for best KNN Regression: 0.7171663022423127\n"
     ]
    }
   ],
   "source": [
    "from sklearn.neighbors import KNeighborsRegressor\n",
    "knn_best = KNeighborsRegressor(n_neighbors=10)\n",
    "knn_best.fit(X_train, y_train)\n",
    "\n",
    "print('Train Score for best KNN Regression:', knn_best.score(X_train, y_train))\n",
    "print('Test Score for best KNN Regression:', knn_best.score(X_test, y_test))"
   ]
  },
  {
   "cell_type": "code",
   "execution_count": 65,
   "id": "e12b3c4b",
   "metadata": {},
   "outputs": [
    {
     "name": "stdout",
     "output_type": "stream",
     "text": [
      "Parameter grid:\n",
      "{'max_depth': [1, 5, 10, 25, 50]}\n"
     ]
    },
    {
     "data": {
      "text/plain": [
       "GridSearchCV(cv=5, estimator=DecisionTreeRegressor(),\n",
       "             param_grid={'max_depth': [1, 5, 10, 25, 50]},\n",
       "             return_train_score=True, scoring='r2')"
      ]
     },
     "execution_count": 65,
     "metadata": {},
     "output_type": "execute_result"
    }
   ],
   "source": [
    "tree = DecisionTreeRegressor()\n",
    "\n",
    "param_grid = {'max_depth': [1, 5, 10, 25, 50]}\n",
    "\n",
    "print(\"Parameter grid:\\n{}\".format(param_grid))\n",
    "grid_search_dr = GridSearchCV(tree, param_grid, cv=5,\n",
    "                  scoring=\"r2\", return_train_score=True )\n",
    "grid_search_dr.fit(X_train, y_train)"
   ]
  },
  {
   "cell_type": "code",
   "execution_count": 66,
   "id": "d5f37ded",
   "metadata": {},
   "outputs": [
    {
     "name": "stdout",
     "output_type": "stream",
     "text": [
      "Best parameters: {'max_depth': 10}\n",
      "Best cross-validation score: 0.70803\n"
     ]
    }
   ],
   "source": [
    "print(\"Best parameters: {}\".format(grid_search_dr.best_params_))\n",
    "print(\"Best cross-validation score: {:.5f}\".format(grid_search_dr.best_score_))"
   ]
  },
  {
   "cell_type": "code",
   "execution_count": 67,
   "id": "876ff48a",
   "metadata": {},
   "outputs": [
    {
     "data": {
      "text/plain": [
       "<matplotlib.legend.Legend at 0x137b55892e0>"
      ]
     },
     "execution_count": 67,
     "metadata": {},
     "output_type": "execute_result"
    },
    {
     "data": {
      "image/png": "[encoded data removed]",
      "text/plain": [
       "<Figure size 2000x500 with 1 Axes>"
      ]
     },
     "metadata": {},
     "output_type": "display_data"
    }
   ],
   "source": [
    "train_score_array_dr = []\n",
    "test_score_array_dr = []\n",
    "depth_range = [1, 5, 10, 25, 50]\n",
    "for k in depth_range:\n",
    "    tree = DecisionTreeRegressor(max_depth=k)\n",
    "    tree.fit(X_train, y_train)\n",
    "    train_score_array_dr.append(tree.score(X_train, y_train))\n",
    "    test_score_array_dr.append(tree.score(X_test, y_test))\n",
    "\n",
    "    \n",
    "x_axis = range(1,20)\n",
    "%matplotlib inline\n",
    "\n",
    "plt.subplots(figsize = (20,5))\n",
    "plt.plot(depth_range, train_score_array_dr, label = 'Train Score', c = 'g')\n",
    "plt.plot(depth_range, test_score_array_dr, label = 'Test Score', c='b')\n",
    "plt.xlabel('Max Depth')\n",
    "plt.ylabel('R2')\n",
    "# plt.xticks(x_axis, np.arange(20))\n",
    "plt.grid()\n",
    "plt.legend()"
   ]
  },
  {
   "cell_type": "code",
   "execution_count": 68,
   "id": "3116f3bd",
   "metadata": {},
   "outputs": [
    {
     "name": "stdout",
     "output_type": "stream",
     "text": [
      "Train Score for best Decision Tree Regression: 0.7652919826666388\n",
      "Test Score for best Decision Tree Regression: 0.721522217409051\n"
     ]
    }
   ],
   "source": [
    "dr_best = DecisionTreeRegressor(max_depth = 8)\n",
    "dr_best.fit(X_train, y_train)\n",
    "\n",
    "print('Train Score for best Decision Tree Regression:', dr_best.score(X_train, y_train))\n",
    "print('Test Score for best Decision Tree Regression:', dr_best.score(X_test, y_test))"
   ]
  },
  {
   "cell_type": "markdown",
   "id": "be1e62d1",
   "metadata": {},
   "source": [
    "## Conclusion\n",
    "Knn regression with n_neighbors = 10 is the best regression model so far with 0.72 R2 score on the test data set (and 0.76 on the train dataset) "
   ]
  },
  {
   "cell_type": "markdown",
   "id": "2d4020b4",
   "metadata": {},
   "source": [
    "## Prediction on the test data"
   ]
  },
  {
   "cell_type": "code",
   "execution_count": 69,
   "id": "25fd8221",
   "metadata": {},
   "outputs": [],
   "source": [
    "prediction = knn_best.predict(X_test)\n"
   ]
  },
  {
   "cell_type": "code",
   "execution_count": 70,
   "id": "711c5d69",
   "metadata": {},
   "outputs": [
    {
     "data": {
      "text/plain": [
       "array([ 481000.,  999550., 1326000., ..., 1274700., 1257500., 2147400.])"
      ]
     },
     "execution_count": 70,
     "metadata": {},
     "output_type": "execute_result"
    }
   ],
   "source": [
    "prediction"
   ]
  },
  {
   "cell_type": "markdown",
   "id": "ae65061e",
   "metadata": {},
   "source": [
    "### Bagging and Pasting"
   ]
  },
  {
   "cell_type": "markdown",
   "id": "c06428a6",
   "metadata": {},
   "source": [
    "#### Bagging on DecisionTree"
   ]
  },
  {
   "cell_type": "code",
   "execution_count": 71,
   "id": "0f129f6c",
   "metadata": {},
   "outputs": [
    {
     "name": "stdout",
     "output_type": "stream",
     "text": [
      "Train Score for Baaging on DecisionTreeRegressor: 0.7902676904889889\n",
      "Test Score for Baaging on DecisionTreeRegressor: 0.761032885669074\n"
     ]
    }
   ],
   "source": [
    "from sklearn.ensemble import BaggingRegressor\n",
    "from sklearn.tree import DecisionTreeRegressor\n",
    "# dt_reg = DecisionTreeRegressor(random_state=0, max_depth = 3)\n",
    "bag_reg_dt= BaggingRegressor(dr_best, bootstrap=True, random_state=0)\n",
    "bag_reg_dt.fit(X_train, y_train)\n",
    "print('Train Score for Baaging on DecisionTreeRegressor:', bag_reg_dt.score(X_train, y_train))\n",
    "print('Test Score for Baaging on DecisionTreeRegressor:', bag_reg_dt.score(X_test, y_test))"
   ]
  },
  {
   "cell_type": "markdown",
   "id": "bc4b6ceb",
   "metadata": {},
   "source": [
    "#### Bagging on RandomForestRegression"
   ]
  },
  {
   "cell_type": "code",
   "execution_count": 72,
   "id": "b7d9c2e9",
   "metadata": {},
   "outputs": [
    {
     "name": "stdout",
     "output_type": "stream",
     "text": [
      "Train Score for Baaging on RandomForest Regression: 0.9168632349805487\n",
      "Test Score for Baaging on RandomForest Regression: 0.8125541166106869\n"
     ]
    }
   ],
   "source": [
    "from sklearn.model_selection import GridSearchCV\n",
    "from sklearn.ensemble import BaggingRegressor\n",
    "from sklearn.ensemble import RandomForestRegressor\n",
    "rf_reg = RandomForestRegressor()\n",
    "bag_reg_rf= BaggingRegressor(rf_reg,bootstrap=True, random_state=0)\n",
    "bag_reg_rf.fit(X_train, y_train)\n",
    "print('Train Score for Baaging on RandomForest Regression:', bag_reg_rf.score(X_train, y_train))\n",
    "print('Test Score for Baaging on RandomForest Regression:', bag_reg_rf.score(X_test, y_test))\n"
   ]
  },
  {
   "cell_type": "markdown",
   "id": "3d7a297d",
   "metadata": {},
   "source": [
    "#### Pasting on DecisionTree Regression"
   ]
  },
  {
   "cell_type": "code",
   "execution_count": 73,
   "id": "bfb621ab",
   "metadata": {},
   "outputs": [
    {
     "name": "stdout",
     "output_type": "stream",
     "text": [
      "Train Score for Pasting on DecisionTreeRegressor: 0.7652919826666388\n",
      "Test Score for Pasting on DecisionTreeRegressor: 0.7242971597503092\n"
     ]
    }
   ],
   "source": [
    "from sklearn.ensemble import BaggingRegressor\n",
    "from sklearn.tree import DecisionTreeRegressor\n",
    "# dt_reg = DecisionTreeRegressor(random_state=0, max_depth = 3)\n",
    "paste_reg_dt= BaggingRegressor(dr_best, bootstrap=False, random_state=0)\n",
    "paste_reg_dt.fit(X_train, y_train)\n",
    "print('Train Score for Pasting on DecisionTreeRegressor:', paste_reg_dt.score(X_train, y_train))\n",
    "print('Test Score for Pasting on DecisionTreeRegressor:', paste_reg_dt.score(X_test, y_test))\n",
    "\n",
    "\n"
   ]
  },
  {
   "cell_type": "markdown",
   "id": "46153321",
   "metadata": {},
   "source": [
    "#### Pasting on RandomForest Regression"
   ]
  },
  {
   "cell_type": "code",
   "execution_count": 74,
   "id": "64422dd1",
   "metadata": {},
   "outputs": [
    {
     "name": "stdout",
     "output_type": "stream",
     "text": [
      "Train Score for Pasting on RandomForest Regression: 0.9597180194063631\n",
      "Test Score for Pasting on RandomForest Regression: 0.8075361797851701\n"
     ]
    }
   ],
   "source": [
    "paste_reg_rf= BaggingRegressor(rf_reg,bootstrap=False,random_state=0)\n",
    "paste_reg_rf.fit(X_train, y_train)\n",
    "\n",
    "print('Train Score for Pasting on RandomForest Regression:', paste_reg_rf.score(X_train, y_train))\n",
    "print('Test Score for Pasting on RandomForest Regression:', paste_reg_rf.score(X_test, y_test))\n",
    "\n",
    "\n",
    "\n"
   ]
  },
  {
   "cell_type": "markdown",
   "id": "b06b6c5c",
   "metadata": {},
   "source": [
    "### Adaboosting "
   ]
  },
  {
   "cell_type": "markdown",
   "id": "817ef476",
   "metadata": {},
   "source": [
    "#### AdaBoost on KNN"
   ]
  },
  {
   "cell_type": "code",
   "execution_count": 75,
   "id": "d4d385ef",
   "metadata": {},
   "outputs": [
    {
     "name": "stdout",
     "output_type": "stream",
     "text": [
      "Train Score for Pasting Adaboost on KNN Regression: 0.822204471144276\n",
      "Test Score for Pasting Adaboost on KNN Regression: 0.6747442206255112\n"
     ]
    }
   ],
   "source": [
    "from sklearn.ensemble import AdaBoostRegressor\n",
    "# knn = KNeighborsRegressor()\n",
    "Knn_reg_ada = AdaBoostRegressor(knn_best,random_state=0 )\n",
    "Knn_reg_ada.fit(X_train, y_train)\n",
    "\n",
    "print('Train Score for Pasting Adaboost on KNN Regression:', Knn_reg_ada.score(X_train, y_train))\n",
    "print('Test Score for Pasting Adaboost on KNN Regression:', Knn_reg_ada.score(X_test, y_test))\n",
    "\n",
    "\n"
   ]
  },
  {
   "cell_type": "markdown",
   "id": "3c4f8a62",
   "metadata": {},
   "source": [
    "#### AdaBoost on RandomForest Regression"
   ]
  },
  {
   "cell_type": "code",
   "execution_count": 76,
   "id": "d6481bfd",
   "metadata": {},
   "outputs": [
    {
     "name": "stdout",
     "output_type": "stream",
     "text": [
      "Train Score for Pasting Adaboost on RandomForest Regression: 0.9538702475324955\n",
      "Test Score for Pasting Adaboost on RandomForest Regression: 0.7963479763790495\n"
     ]
    }
   ],
   "source": [
    "# rf_reg = RandomForestRegressor()\n",
    "ada_reg_rf= AdaBoostRegressor(rf_reg,random_state=0)\n",
    "ada_reg_rf.fit(X_train, y_train)\n",
    "\n",
    "print('Train Score for Pasting Adaboost on RandomForest Regression:', ada_reg_rf.score(X_train, y_train))\n",
    "print('Test Score for Pasting Adaboost on RandomForest Regression:', ada_reg_rf.score(X_test, y_test))\n",
    "\n",
    "\n"
   ]
  },
  {
   "cell_type": "markdown",
   "id": "475e4ab5",
   "metadata": {},
   "source": [
    "### GradientBoosting Regressor"
   ]
  },
  {
   "cell_type": "code",
   "execution_count": 77,
   "id": "c9428877",
   "metadata": {},
   "outputs": [
    {
     "name": "stdout",
     "output_type": "stream",
     "text": [
      "Train Score for GradientBoosting Regression: 0.7815117519309969\n",
      "Test Score for GradientBoosting Regression: 0.7703397653138953\n"
     ]
    }
   ],
   "source": [
    "from sklearn.ensemble import GradientBoostingRegressor\n",
    "grad_reg = GradientBoostingRegressor(random_state=0)\n",
    "grad_reg.fit(X_train, y_train)\n",
    "\n",
    "print('Train Score for GradientBoosting Regression:', grad_reg.score(X_train, y_train))\n",
    "print('Test Score for GradientBoosting Regression:', grad_reg.score(X_test, y_test))\n",
    "\n",
    "\n"
   ]
  },
  {
   "cell_type": "markdown",
   "id": "57e336a4",
   "metadata": {},
   "source": [
    "### PCA"
   ]
  },
  {
   "cell_type": "markdown",
   "id": "f39e826d",
   "metadata": {},
   "source": [
    "Selecting the number of components such that the amount of variance that needs to be explained is greater than 95%"
   ]
  },
  {
   "cell_type": "code",
   "execution_count": 78,
   "id": "26fdefcf",
   "metadata": {},
   "outputs": [],
   "source": [
    "from sklearn.decomposition import PCA\n",
    "\n",
    "# reduce the dimensionality\n",
    "pca = PCA(n_components= 0.95, svd_solver = 'full')\n",
    "X_train_pca = pca.fit_transform(X_train)\n",
    "X_test_pca = pca.transform(X_test)"
   ]
  },
  {
   "cell_type": "code",
   "execution_count": 79,
   "id": "dfca493e",
   "metadata": {},
   "outputs": [
    {
     "data": {
      "image/png": "[encoded data removed]",
      "text/plain": [
       "<Figure size 640x480 with 1 Axes>"
      ]
     },
     "metadata": {},
     "output_type": "display_data"
    }
   ],
   "source": [
    "PC_values = np.arange(pca.n_components_) + 1\n",
    "plt.plot(PC_values, pca.explained_variance_ratio_, 'ro-', linewidth=2)\n",
    "plt.title('Scree Plot')\n",
    "plt.xlabel('Principal Component')\n",
    "plt.ylabel('Proportion of Variance Explained')\n",
    "plt.show()"
   ]
  },
  {
   "cell_type": "code",
   "execution_count": 80,
   "id": "995a93e0",
   "metadata": {},
   "outputs": [
    {
     "data": {
      "text/plain": [
       "array([0.20016813, 0.16649994, 0.08589328, 0.06514279, 0.04809656,\n",
       "       0.04386994, 0.04054901, 0.03850036, 0.03428123, 0.0321487 ,\n",
       "       0.03192525, 0.0295878 , 0.02925613, 0.02869544, 0.02816949,\n",
       "       0.02785088, 0.02042511])"
      ]
     },
     "execution_count": 80,
     "metadata": {},
     "output_type": "execute_result"
    }
   ],
   "source": [
    "pca.explained_variance_ratio_"
   ]
  },
  {
   "cell_type": "markdown",
   "id": "ee912a2a",
   "metadata": {},
   "source": [
    "These 17 principal components explain 95% of the variance which is even more than the number of columns in the original dataset so using PCA, it is not feasible to reduce the dimensionality in the dataset."
   ]
  },
  {
   "cell_type": "markdown",
   "id": "fadf6b7e",
   "metadata": {},
   "source": [
    "#### PCA on DecisionTree"
   ]
  },
  {
   "cell_type": "code",
   "execution_count": 81,
   "id": "6670d116",
   "metadata": {},
   "outputs": [
    {
     "name": "stdout",
     "output_type": "stream",
     "text": [
      "Train Score for Decision Tree Regression using PCA: 0.7071487328604932\n",
      "Test Score for Decision Tree Regression using PCA: 0.6312778167222233\n"
     ]
    }
   ],
   "source": [
    "dr_best.fit(X_train_pca, y_train)\n",
    "\n",
    "print('Train Score for Decision Tree Regression using PCA:', dr_best.score(X_train_pca, y_train))\n",
    "print('Test Score for Decision Tree Regression using PCA:', dr_best.score(X_test_pca, y_test))"
   ]
  },
  {
   "cell_type": "markdown",
   "id": "dcf179b7",
   "metadata": {},
   "source": [
    "#### PCA on LinearRegression"
   ]
  },
  {
   "cell_type": "code",
   "execution_count": 82,
   "id": "ba9acad3",
   "metadata": {},
   "outputs": [
    {
     "name": "stdout",
     "output_type": "stream",
     "text": [
      "Train Score for Decision Tree Regression using PCA using PCA: 0.4992142900566813\n",
      "Test Score for Decision Tree Regression using PCA: 0.49685366509033735\n"
     ]
    }
   ],
   "source": [
    "lreg.fit(X_train_pca, y_train)\n",
    "\n",
    "print('Train Score for Decision Tree Regression using PCA using PCA:', lreg.score(X_train_pca, y_train))\n",
    "print('Test Score for Decision Tree Regression using PCA:', lreg.score(X_test_pca, y_test))"
   ]
  },
  {
   "cell_type": "markdown",
   "id": "85e50083",
   "metadata": {},
   "source": [
    "#### PCA on KNN"
   ]
  },
  {
   "cell_type": "code",
   "execution_count": 83,
   "id": "a4f06c42",
   "metadata": {
    "scrolled": true
   },
   "outputs": [
    {
     "name": "stdout",
     "output_type": "stream",
     "text": [
      "Train Score for KNN Regression using PCA: 0.7200882644034332\n",
      "Test Score for KNN Regression using PCA: 0.6946303351167704\n"
     ]
    }
   ],
   "source": [
    "knn.fit(X_train_pca, y_train)\n",
    "\n",
    "print('Train Score for KNN Regression using PCA:', knn.score(X_train_pca, y_train))\n",
    "print('Test Score for KNN Regression using PCA:', knn.score(X_test_pca, y_test))"
   ]
  },
  {
   "cell_type": "markdown",
   "id": "6165168c",
   "metadata": {},
   "source": [
    "#### PCA on SVM Regression"
   ]
  },
  {
   "cell_type": "code",
   "execution_count": 84,
   "id": "c664c844",
   "metadata": {},
   "outputs": [
    {
     "name": "stdout",
     "output_type": "stream",
     "text": [
      "Train Score for SVRegression using PCA: -0.05434312963876331\n",
      "Test Score for SVRegression using PCA: -0.05557891602954479\n"
     ]
    }
   ],
   "source": [
    "svr.fit(X_train_pca, y_train)\n",
    "\n",
    "print('Train Score for SVRegression using PCA:', svr.score(X_train_pca, y_train))\n",
    "print('Test Score for SVRegression using PCA:', svr.score(X_test_pca, y_test))"
   ]
  },
  {
   "cell_type": "markdown",
   "id": "47921df4",
   "metadata": {},
   "source": [
    "### Results comparison before and after PCA"
   ]
  },
  {
   "cell_type": "markdown",
   "id": "48b22eda",
   "metadata": {},
   "source": [
    "| Model | Before PCA | After PCA |\n",
    "| :- | -: | :-: |\n",
    "| Linear Regression | 0.62 | 0.49 |\n",
    "| Decision Tree | 0.72  | 0.62 | \n",
    "| KNN Regression | 0.71  | 0.70 | \n",
    "| SVRegression | -0.05  | -0.05 | "
   ]
  },
  {
   "cell_type": "markdown",
   "id": "9e42de35",
   "metadata": {},
   "source": [
    "It can be observed that PCA is not performing significantly better than the regression model with all the features as expected since using PCA, it was not possible to reduce the dimensionality in the dataset"
   ]
  },
  {
   "cell_type": "markdown",
   "id": "e7b9a1e5",
   "metadata": {},
   "source": [
    "### Deep Learning model"
   ]
  },
  {
   "cell_type": "code",
   "execution_count": 85,
   "id": "c87996bf",
   "metadata": {},
   "outputs": [],
   "source": [
    "from keras.models import Sequential\n",
    "from keras.layers import Dense\n",
    "import tensorflow as tf\n"
   ]
  },
  {
   "cell_type": "code",
   "execution_count": 86,
   "id": "b1fce7ce",
   "metadata": {},
   "outputs": [],
   "source": [
    "# step 1: build the model\n",
    "model = Sequential()\n",
    "model.add(Dense(32, input_dim = 35, activation='relu', kernel_initializer = 'zero', name = 'input_layer'))\n",
    "#model.add(Dense(16, activation='relu', kernel_initializer = 'zero', name = 'hidden_layer'))\n",
    "model.add(Dense(1, activation = 'softmax', name = 'output_layer'))"
   ]
  },
  {
   "cell_type": "code",
   "execution_count": 87,
   "id": "40dca98b",
   "metadata": {},
   "outputs": [],
   "source": [
    "# step 2: Compile the model\n",
    "model.compile(optimizer = 'adam', loss='mse', metrics=['mae','mse'])"
   ]
  },
  {
   "cell_type": "code",
   "execution_count": 88,
   "id": "cbc4d4e6",
   "metadata": {},
   "outputs": [
    {
     "name": "stdout",
     "output_type": "stream",
     "text": [
      "Epoch 1/20\n",
      "160/160 [==============================] - 8s 2ms/step - loss: 1412123459584.0000 - mae: 1001107.2500 - mse: 1412123459584.0000\n",
      "Epoch 2/20\n",
      "160/160 [==============================] - 0s 1ms/step - loss: 1412123852800.0000 - mae: 1001107.4375 - mse: 1412123852800.0000\n",
      "Epoch 3/20\n",
      "160/160 [==============================] - 0s 1ms/step - loss: 1412123066368.0000 - mae: 1001107.2500 - mse: 1412123066368.0000\n",
      "Epoch 4/20\n",
      "160/160 [==============================] - 0s 1ms/step - loss: 1412123852800.0000 - mae: 1001107.4375 - mse: 1412123852800.0000\n",
      "Epoch 5/20\n",
      "160/160 [==============================] - 0s 1ms/step - loss: 1412123590656.0000 - mae: 1001107.5625 - mse: 1412123590656.0000\n",
      "Epoch 6/20\n",
      "160/160 [==============================] - 0s 1ms/step - loss: 1412123459584.0000 - mae: 1001107.4375 - mse: 1412123459584.0000\n",
      "Epoch 7/20\n",
      "160/160 [==============================] - 0s 1ms/step - loss: 1412123459584.0000 - mae: 1001107.5625 - mse: 1412123459584.0000\n",
      "Epoch 8/20\n",
      "160/160 [==============================] - 0s 1ms/step - loss: 1412123197440.0000 - mae: 1001107.4375 - mse: 1412123197440.0000\n",
      "Epoch 9/20\n",
      "160/160 [==============================] - 0s 1ms/step - loss: 1412123459584.0000 - mae: 1001107.3750 - mse: 1412123459584.0000\n",
      "Epoch 10/20\n",
      "160/160 [==============================] - 0s 1ms/step - loss: 1412124246016.0000 - mae: 1001107.6875 - mse: 1412124246016.0000\n",
      "Epoch 11/20\n",
      "160/160 [==============================] - 0s 1ms/step - loss: 1412123328512.0000 - mae: 1001107.2500 - mse: 1412123328512.0000\n",
      "Epoch 12/20\n",
      "160/160 [==============================] - 0s 1ms/step - loss: 1412123459584.0000 - mae: 1001107.4375 - mse: 1412123459584.0000\n",
      "Epoch 13/20\n",
      "160/160 [==============================] - 0s 1ms/step - loss: 1412123721728.0000 - mae: 1001107.4375 - mse: 1412123721728.0000\n",
      "Epoch 14/20\n",
      "160/160 [==============================] - 0s 1ms/step - loss: 1412123721728.0000 - mae: 1001107.3750 - mse: 1412123721728.0000\n",
      "Epoch 15/20\n",
      "160/160 [==============================] - 0s 1ms/step - loss: 1412123459584.0000 - mae: 1001107.5625 - mse: 1412123459584.0000\n",
      "Epoch 16/20\n",
      "160/160 [==============================] - 0s 1ms/step - loss: 1412123721728.0000 - mae: 1001107.2500 - mse: 1412123721728.0000\n",
      "Epoch 17/20\n",
      "160/160 [==============================] - 0s 1ms/step - loss: 1412123590656.0000 - mae: 1001107.3750 - mse: 1412123590656.0000\n",
      "Epoch 18/20\n",
      "160/160 [==============================] - 0s 1ms/step - loss: 1412123590656.0000 - mae: 1001106.9375 - mse: 1412123590656.0000\n",
      "Epoch 19/20\n",
      "160/160 [==============================] - 0s 1ms/step - loss: 1412123459584.0000 - mae: 1001107.5625 - mse: 1412123459584.0000\n",
      "Epoch 20/20\n",
      "160/160 [==============================] - 0s 1ms/step - loss: 1412123590656.0000 - mae: 1001107.1875 - mse: 1412123590656.0000\n"
     ]
    },
    {
     "data": {
      "text/plain": [
       "<keras.callbacks.History at 0x138c9c7d550>"
      ]
     },
     "execution_count": 88,
     "metadata": {},
     "output_type": "execute_result"
    }
   ],
   "source": [
    "# Step 3: Model training\n",
    "model.fit(X_train, y_train, batch_size=128, epochs=20)"
   ]
  },
  {
   "cell_type": "code",
   "execution_count": 89,
   "id": "f2ac38a7",
   "metadata": {},
   "outputs": [
    {
     "name": "stdout",
     "output_type": "stream",
     "text": [
      "639/639 [==============================] - 1s 1ms/step - loss: 1412123590656.0000 - mae: 1001107.8750 - mse: 1412123590656.0000\n",
      "213/213 [==============================] - 0s 1ms/step - loss: 1390368260096.0000 - mae: 999377.4375 - mse: 1390368260096.0000\n",
      "Train Loss [1412123590656.0, 1001107.875, 1412123590656.0]\n",
      "Train Accuracy [1412123590656.0, 1001107.875, 1412123590656.0]\n",
      "Test Loss [1390368260096.0, 999377.4375, 1390368260096.0]\n",
      "Test Accuracy [1390368260096.0, 999377.4375, 1390368260096.0]\n"
     ]
    }
   ],
   "source": [
    "# Step 4: Model evaluation\n",
    "\n",
    "train_loss_and_metrics = model.evaluate(X_train, y_train)\n",
    "test_loss_and_metrics = model.evaluate(X_test, y_test)\n",
    "\n",
    "print(\"Train Loss\", train_loss_and_metrics)\n",
    "print(\"Train Accuracy\", train_loss_and_metrics)\n",
    "\n",
    "print(\"Test Loss\", test_loss_and_metrics)\n",
    "print(\"Test Accuracy\", test_loss_and_metrics)"
   ]
  },
  {
   "cell_type": "code",
   "execution_count": null,
   "id": "07373985",
   "metadata": {},
   "outputs": [],
   "source": []
  },
  {
   "cell_type": "code",
   "execution_count": null,
   "id": "813dd07f",
   "metadata": {},
   "outputs": [],
   "source": []
  }
 ],
 "metadata": {
  "kernelspec": {
   "display_name": "Python 3 (ipykernel)",
   "language": "python",
   "name": "python3"
  },
  "language_info": {
   "codemirror_mode": {
    "name": "ipython",
    "version": 3
   },
   "file_extension": ".py",
   "mimetype": "text/x-python",
   "name": "python",
   "nbconvert_exporter": "python",
   "pygments_lexer": "ipython3",
   "version": "3.9.13"
  }
 },
 "nbformat": 4,
 "nbformat_minor": 5
}
